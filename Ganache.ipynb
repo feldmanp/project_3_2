{
 "cells": [
  {
   "cell_type": "code",
   "execution_count": 12,
   "id": "4d5cef16",
   "metadata": {},
   "outputs": [],
   "source": [
    "# Import the functions from ethereum.py\n",
    "from ethereum import w3, generate_account, get_balance, send_transaction\n",
    "from web3 import Web3\n",
    "\n",
    "#Get address and account via Ganache\n",
    "\n",
    "w3 = Web3(Web3.HTTPProvider('http://127.0.0.1:7545'))"
   ]
  },
  {
   "cell_type": "code",
   "execution_count": 13,
   "id": "35780ae2",
   "metadata": {},
   "outputs": [
    {
     "name": "stderr",
     "output_type": "stream",
     "text": [
      "2022-11-22 14:10:28.023 \n",
      "  \u001b[33m\u001b[1mWarning:\u001b[0m to view this Streamlit app on a browser, run it with the following\n",
      "  command:\n",
      "\n",
      "    streamlit run /Users/haihai/opt/anaconda3/lib/python3.8/site-packages/ipykernel_launcher.py [ARGUMENTS]\n"
     ]
    },
    {
     "ename": "AttributeError",
     "evalue": "'str' object has no attribute 'address'",
     "output_type": "error",
     "traceback": [
      "\u001b[0;31m---------------------------------------------------------------------------\u001b[0m",
      "\u001b[0;31mAttributeError\u001b[0m                            Traceback (most recent call last)",
      "Input \u001b[0;32mIn [13]\u001b[0m, in \u001b[0;36m<cell line: 13>\u001b[0;34m()\u001b[0m\n\u001b[1;32m     10\u001b[0m st\u001b[38;5;241m.\u001b[39mmarkdown(\u001b[38;5;124m\"\u001b[39m\u001b[38;5;124m## Ethereum Account Address:\u001b[39m\u001b[38;5;124m\"\u001b[39m)\n\u001b[1;32m     12\u001b[0m \u001b[38;5;66;03m# Write the Ethereum account address to the Streamlit page\u001b[39;00m\n\u001b[0;32m---> 13\u001b[0m st\u001b[38;5;241m.\u001b[39mwrite(\u001b[43maccount\u001b[49m\u001b[38;5;241;43m.\u001b[39;49m\u001b[43maddress\u001b[49m)\n\u001b[1;32m     15\u001b[0m \u001b[38;5;66;03m#######################################\u001b[39;00m\n\u001b[1;32m     16\u001b[0m \n\u001b[1;32m     17\u001b[0m \u001b[38;5;66;03m# Display the Etheremum Account balance\u001b[39;00m\n\u001b[1;32m     18\u001b[0m st\u001b[38;5;241m.\u001b[39mtext(\u001b[38;5;124m\"\u001b[39m\u001b[38;5;130;01m\\n\u001b[39;00m\u001b[38;5;124m\"\u001b[39m)\n",
      "\u001b[0;31mAttributeError\u001b[0m: 'str' object has no attribute 'address'"
     ]
    }
   ],
   "source": [
    "# Streamlit Code\n",
    "\n",
    "account = st.text_input(\"please enter your account adress\")\n",
    "\n",
    "#######################################\n",
    "\n",
    "# The Ethereum Account Address\n",
    "st.text(\"\\n\")\n",
    "st.text(\"\\n\")\n",
    "st.markdown(\"## Ethereum Account Address:\")\n",
    "\n",
    "# Write the Ethereum account address to the Streamlit page\n",
    "st.write(account.address)\n",
    "\n",
    "#######################################\n",
    "\n",
    "# Display the Etheremum Account balance\n",
    "st.text(\"\\n\")\n",
    "st.text(\"\\n\")\n",
    "st.markdown(\"## Ethereum Account Balance:\")\n",
    "\n",
    "# Call the get_balance function and write the account balance to the screen\n",
    "ether_balance = get_balance(w3, account.address)\n",
    "st.write(ether_balance)\n",
    "\n",
    "#######################################\n",
    "\n",
    "# An Ethereum Transaction\n",
    "st.text(\"\\n\")\n",
    "st.text(\"\\n\")\n",
    "st.markdown(\"## An Ethereum Transaction\")\n",
    "\n",
    "# Create inputs for the receiver address and ether amount\n",
    "receiver = st.text_input(\"Input the receiver address\")\n",
    "ether = st.number_input(\"Input the amount of ether\")\n",
    "\n",
    "# Create a button that calls the `send_transaction` function and returns the transaction hash\n",
    "if st.button(\"Send Transaction\"):\n",
    "\n",
    "    transaction_hash = send_transaction(w3, account, receiver, ether)\n",
    "\n",
    "    # Display the Etheremum Transaction Hash\n",
    "    st.text(\"\\n\")\n",
    "    st.text(\"\\n\")\n",
    "    st.markdown(\"## Ethereum Transaction Hash:\")\n",
    "\n",
    "    st.write(transaction_hash)\n",
    "    \n",
    "#Add timestamp of the transcation \n",
    "\n",
    "tx = transaction_hash\n",
    "\n",
    "block_number = web3.eth.getTransaction(tx).blockNumber\n",
    "web3.eth.getBlock(block_number).timestamp"
   ]
  },
  {
   "cell_type": "code",
   "execution_count": null,
   "id": "013dd195",
   "metadata": {},
   "outputs": [],
   "source": []
  }
 ],
 "metadata": {
  "kernelspec": {
   "display_name": "Python 3 (ipykernel)",
   "language": "python",
   "name": "python3"
  },
  "language_info": {
   "codemirror_mode": {
    "name": "ipython",
    "version": 3
   },
   "file_extension": ".py",
   "mimetype": "text/x-python",
   "name": "python",
   "nbconvert_exporter": "python",
   "pygments_lexer": "ipython3",
   "version": "3.8.8"
  }
 },
 "nbformat": 4,
 "nbformat_minor": 5
}
