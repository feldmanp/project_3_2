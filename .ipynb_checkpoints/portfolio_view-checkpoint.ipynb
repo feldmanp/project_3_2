{
 "cells": [
  {
   "cell_type": "code",
   "execution_count": 62,
   "id": "d6cd1075-1b65-4aba-9e2b-91fc49779070",
   "metadata": {},
   "outputs": [],
   "source": [
    "import pandas as pd\n",
    "from datetime import datetime,timedelta\n",
    "import yfinance as yf"
   ]
  },
  {
   "cell_type": "code",
   "execution_count": 63,
   "id": "23154175-e5d1-4b6e-8109-6604f511a3bc",
   "metadata": {},
   "outputs": [],
   "source": [
    "def get_price(date,currency):\n",
    "    pair=currency+\"-AUD\"\n",
    "    data = yf.download(pair,date,date + timedelta(days=1))\n",
    "    return data.iloc[0,4]\n",
    "    \n",
    "def calculate_daily_value(date,summary_portfolio_df):\n",
    "    amount_aud = 0\n",
    "    for index, row in summary_portfolio_df.iterrows(): \n",
    "        aud_price = get_price(date,index)\n",
    "        amount_aud += row['amount'] * aud_price\n",
    "    \n",
    "    return amount_aud\n",
    "\n",
    "def update_holdings(current_holdings, new_transactions):\n",
    "    for index, row in new_transactions.iterrows():\n",
    "        #parse the row\n",
    "        date = datetime.strptime(row['date'], '%Y-%m-%d')\n",
    "        currency = row['currency']\n",
    "        amount = row['amount']\n",
    "        \n",
    "        if not currency in current_holdings.index:\n",
    "            new_row = pd.DataFrame({'currency':[currency], 'amount':[amount]})\n",
    "            new_row.set_index('currency',inplace=True)\n",
    "            current_holdings = pd.concat([current_holdings,new_row])\n",
    "        else:\n",
    "            current_holdings.loc[currency, 'amount'] += amount \n",
    "    \n",
    "    #return the updated holdings\n",
    "    return current_holdings\n",
    "\n",
    "def calculate_daily_portfolio(transactions_df):\n",
    "    #1. adjust the dataframe\n",
    "    transactions_df[\"date\"]=transactions_df[\"timestamp\"].str[:10]\n",
    "    \n",
    "    #2. Generate all dates\n",
    "    start_date=transactions_df.iloc[0,1]\n",
    "    end_date=transactions_df.iloc[len(transactions_df)-1,1]\n",
    "    portfolio_daily_view = pd.DataFrame({'date': pd.date_range(start_date, end_date), 'AUD':0})\n",
    "    portfolio_daily_view['date']=portfolio_daily_view['date'].dt.strftime('%Y-%m-%d')\n",
    "    portfolio_daily_view.set_index('date',inplace=True)\n",
    "    \n",
    "    \n",
    "    #3. generate summary of holdings\n",
    "    holdings_df = pd.DataFrame(columns=['currency','amount'])\n",
    "    holdings_df.set_index('currency',inplace=True)\n",
    "\n",
    "    #4. For every date\n",
    "    for index, row in portfolio_daily_view.iterrows():    \n",
    "        #prepare data\n",
    "        date = datetime.strptime(index, '%Y-%m-%d')\n",
    "\n",
    "        #4.1 Check if transactions exists: \n",
    "        daily_transactions = transactions_df.loc[transactions_df['date'] == index]\n",
    "        # if yes, update total balance of coins\n",
    "        if len(daily_transactions) > 0:\n",
    "            holdings_df=update_holdings(holdings_df, daily_transactions)\n",
    "\n",
    "        #4.2. Calcualte AUD balance\n",
    "        portfolio_daily_view.loc[index,'AUD'] = calculate_daily_value(date,holdings_df)\n",
    "\n",
    "    return portfolio_daily_view"
   ]
  },
  {
   "cell_type": "code",
   "execution_count": 64,
   "id": "a13ffa8f-f816-4d5b-a215-1d159968a6a2",
   "metadata": {},
   "outputs": [
    {
     "name": "stdout",
     "output_type": "stream",
     "text": [
      "[*********************100%***********************]  1 of 1 completed\n",
      "[*********************100%***********************]  1 of 1 completed\n"
     ]
    }
   ],
   "source": [
    "daily_portfolio_df = calculate_daily_portfolio(\"Resources/eth_transactions.csv\")"
   ]
  },
  {
   "cell_type": "code",
   "execution_count": 65,
   "id": "422deea0-0446-48e9-a7b5-92b7a97a18df",
   "metadata": {},
   "outputs": [
    {
     "data": {
      "text/html": [
       "<div>\n",
       "<style scoped>\n",
       "    .dataframe tbody tr th:only-of-type {\n",
       "        vertical-align: middle;\n",
       "    }\n",
       "\n",
       "    .dataframe tbody tr th {\n",
       "        vertical-align: top;\n",
       "    }\n",
       "\n",
       "    .dataframe thead th {\n",
       "        text-align: right;\n",
       "    }\n",
       "</style>\n",
       "<table border=\"1\" class=\"dataframe\">\n",
       "  <thead>\n",
       "    <tr style=\"text-align: right;\">\n",
       "      <th></th>\n",
       "      <th>AUD</th>\n",
       "    </tr>\n",
       "    <tr>\n",
       "      <th>date</th>\n",
       "      <th></th>\n",
       "    </tr>\n",
       "  </thead>\n",
       "  <tbody>\n",
       "    <tr>\n",
       "      <th>2022-11-22</th>\n",
       "      <td>27321.353516</td>\n",
       "    </tr>\n",
       "    <tr>\n",
       "      <th>2022-11-23</th>\n",
       "      <td>10522.650146</td>\n",
       "    </tr>\n",
       "  </tbody>\n",
       "</table>\n",
       "</div>"
      ],
      "text/plain": [
       "                     AUD\n",
       "date                    \n",
       "2022-11-22  27321.353516\n",
       "2022-11-23  10522.650146"
      ]
     },
     "execution_count": 65,
     "metadata": {},
     "output_type": "execute_result"
    }
   ],
   "source": [
    "daily_portfolio_df.head()"
   ]
  },
  {
   "cell_type": "code",
   "execution_count": null,
   "id": "2391559e-2c64-4dee-9b95-441761bfac81",
   "metadata": {},
   "outputs": [],
   "source": []
  }
 ],
 "metadata": {
  "kernelspec": {
   "display_name": "Python 3 (ipykernel)",
   "language": "python",
   "name": "python3"
  },
  "language_info": {
   "codemirror_mode": {
    "name": "ipython",
    "version": 3
   },
   "file_extension": ".py",
   "mimetype": "text/x-python",
   "name": "python",
   "nbconvert_exporter": "python",
   "pygments_lexer": "ipython3",
   "version": "3.7.13"
  }
 },
 "nbformat": 4,
 "nbformat_minor": 5
}
