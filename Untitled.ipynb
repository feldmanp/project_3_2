{
 "cells": [
  {
   "cell_type": "code",
   "execution_count": 6,
   "id": "f652587a",
   "metadata": {},
   "outputs": [],
   "source": [
    "#Import streamlit \n",
    "\n",
    "import streamlit as st\n",
    "import pandas as pd"
   ]
  },
  {
   "cell_type": "code",
   "execution_count": null,
   "id": "30bb2035",
   "metadata": {},
   "outputs": [],
   "source": [
    "#write title \n",
    "\n",
    "st.title(\"Crypto Portfolio Dashboard and Personal Tax Calculation\")\n",
    "\n",
    "# Ask user to input their salary \n",
    "\n",
    "st.write(\"Input Salary\")"
   ]
  },
  {
   "cell_type": "code",
   "execution_count": 9,
   "id": "cedb9848",
   "metadata": {},
   "outputs": [],
   "source": [
    "#Ask user to upload transcation file \n",
    "\n",
    "file_uploader = st.file_uploader('Upload crypto transaction file (.csv)')\n",
    "\n",
    "# Transform the upload file into dataframe \n",
    "\n",
    "#df = pd.read_csv(file_uploader)"
   ]
  },
  {
   "cell_type": "code",
   "execution_count": null,
   "id": "7ead5da6",
   "metadata": {},
   "outputs": [],
   "source": []
  }
 ],
 "metadata": {
  "kernelspec": {
   "display_name": "Python 3 (ipykernel)",
   "language": "python",
   "name": "python3"
  },
  "language_info": {
   "codemirror_mode": {
    "name": "ipython",
    "version": 3
   },
   "file_extension": ".py",
   "mimetype": "text/x-python",
   "name": "python",
   "nbconvert_exporter": "python",
   "pygments_lexer": "ipython3",
   "version": "3.8.8"
  }
 },
 "nbformat": 4,
 "nbformat_minor": 5
}
