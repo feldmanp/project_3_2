{
 "cells": [
  {
   "cell_type": "code",
   "execution_count": 1,
   "id": "d6cd1075-1b65-4aba-9e2b-91fc49779070",
   "metadata": {},
   "outputs": [],
   "source": [
    "import pandas as pd\n",
    "from datetime import datetime,timedelta\n",
    "import yfinance as yf"
   ]
  },
  {
   "cell_type": "code",
   "execution_count": 2,
   "id": "2834f0b9-1c6f-494e-94e5-b5ad4a164e44",
   "metadata": {},
   "outputs": [],
   "source": [
    "transactions_df = pd.read_csv(\"Resources/Transactions.csv\", parse_dates=True, infer_datetime_format=True)"
   ]
  },
  {
   "cell_type": "code",
   "execution_count": 3,
   "id": "23154175-e5d1-4b6e-8109-6604f511a3bc",
   "metadata": {},
   "outputs": [],
   "source": [
    "def get_price(date,currency):\n",
    "    pair=currency+\"-AUD\"\n",
    "    data = yf.download(pair,date,date + timedelta(days=1))\n",
    "    return data.iloc[0,4]\n",
    "    \n",
    "def calculate_daily_value(date,summary_portfolio_df):\n",
    "    amount_aud = 0\n",
    "    for index, row in summary_portfolio_df.iterrows(): \n",
    "        aud_price = get_price(date,index)\n",
    "        amount_aud += row['Amount'] * aud_price\n",
    "    \n",
    "    return amount_aud\n",
    "\n",
    "def update_holdings(current_holdings, new_transactions):\n",
    "    for index, row in new_transactions.iterrows():\n",
    "        #parse the row\n",
    "        date = datetime.strptime(row['Date'], '%Y-%m-%d')\n",
    "        currency = row['Currency']\n",
    "        if row['Transaction'] == 'SELL':\n",
    "            amount = -row['Amount']\n",
    "        else:\n",
    "            amount = row['Amount']\n",
    "\n",
    "        if not currency in current_holdings.index:\n",
    "            new_row = pd.DataFrame({'Currency':[currency], 'Amount':[amount]})\n",
    "            new_row.set_index('Currency',inplace=True)\n",
    "            current_holdings = pd.concat([current_holdings,new_row])\n",
    "        else:\n",
    "            current_holdings.loc[currency, 'Amount'] += amount \n",
    "    \n",
    "    #return the updated holdings\n",
    "    return current_holdings"
   ]
  },
  {
   "cell_type": "code",
   "execution_count": 10,
   "id": "02df863e-0cf2-4108-ac33-24b2a7dc3401",
   "metadata": {},
   "outputs": [
    {
     "name": "stdout",
     "output_type": "stream",
     "text": [
      "[*********************100%***********************]  1 of 1 completed\n",
      "[*********************100%***********************]  1 of 1 completed\n",
      "[*********************100%***********************]  1 of 1 completed\n",
      "[*********************100%***********************]  1 of 1 completed\n",
      "[*********************100%***********************]  1 of 1 completed\n",
      "[*********************100%***********************]  1 of 1 completed\n",
      "[*********************100%***********************]  1 of 1 completed\n",
      "[*********************100%***********************]  1 of 1 completed\n",
      "[*********************100%***********************]  1 of 1 completed\n",
      "[*********************100%***********************]  1 of 1 completed\n",
      "[*********************100%***********************]  1 of 1 completed\n",
      "[*********************100%***********************]  1 of 1 completed\n",
      "[*********************100%***********************]  1 of 1 completed\n"
     ]
    },
    {
     "data": {
      "text/plain": [
       "<AxesSubplot:xlabel='Date'>"
      ]
     },
     "execution_count": 10,
     "metadata": {},
     "output_type": "execute_result"
    },
    {
     "data": {
      "image/png": "[encoded data removed]",
      "text/plain": [
       "<Figure size 432x288 with 1 Axes>"
      ]
     },
     "metadata": {
      "needs_background": "light"
     },
     "output_type": "display_data"
    }
   ],
   "source": [
    "#1. Generate all dates\n",
    "start_date=transactions_df.iloc[0,0]\n",
    "end_date=transactions_df.iloc[len(transactions_df)-1,0]\n",
    "portfolio_daily_view = pd.DataFrame({'Date': pd.date_range(start_date, end_date), 'AUD':0})\n",
    "portfolio_daily_view['Date']=portfolio_daily_view['Date'].dt.strftime('%Y-%m-%d')\n",
    "portfolio_daily_view.set_index('Date',inplace=True)\n",
    "\n",
    "#2. generate summary of holdings\n",
    "holdings_df = pd.DataFrame(columns=['Currency','Amount'])\n",
    "holdings_df.set_index('Currency',inplace=True)\n",
    "\n",
    "#3. For every date\n",
    "for index, row in portfolio_daily_view.iterrows():    \n",
    "    #prepare data\n",
    "    date = datetime.strptime(index, '%Y-%m-%d')\n",
    "    \n",
    "    #1. Check if transactions exists: \n",
    "    daily_transactions = transactions_df.loc[transactions_df['Date'] == index]\n",
    "    # if yes, update total balance of coins\n",
    "    if len(daily_transactions) > 0:\n",
    "        holdings_df=update_holdings(holdings_df, daily_transactions)\n",
    "    \n",
    "    #2. Calcualte AUD balance\n",
    "    portfolio_daily_view.loc[index,'AUD'] = calculate_daily_value(date,holdings_df)\n",
    "    \n",
    "portfolio_daily_view.plot(kind='bar')"
   ]
  },
  {
   "cell_type": "code",
   "execution_count": 9,
   "id": "cb5b26dc-a697-4a4e-aac5-107e8785d7a3",
   "metadata": {},
   "outputs": [
    {
     "data": {
      "text/html": [
       "<div>\n",
       "<style scoped>\n",
       "    .dataframe tbody tr th:only-of-type {\n",
       "        vertical-align: middle;\n",
       "    }\n",
       "\n",
       "    .dataframe tbody tr th {\n",
       "        vertical-align: top;\n",
       "    }\n",
       "\n",
       "    .dataframe thead th {\n",
       "        text-align: right;\n",
       "    }\n",
       "</style>\n",
       "<table border=\"1\" class=\"dataframe\">\n",
       "  <thead>\n",
       "    <tr style=\"text-align: right;\">\n",
       "      <th></th>\n",
       "      <th>AUD</th>\n",
       "    </tr>\n",
       "    <tr>\n",
       "      <th>Date</th>\n",
       "      <th></th>\n",
       "    </tr>\n",
       "  </thead>\n",
       "  <tbody>\n",
       "    <tr>\n",
       "      <th>2021-08-07</th>\n",
       "      <td>60584.707031</td>\n",
       "    </tr>\n",
       "    <tr>\n",
       "      <th>2021-08-08</th>\n",
       "      <td>81278.748123</td>\n",
       "    </tr>\n",
       "    <tr>\n",
       "      <th>2021-08-09</th>\n",
       "      <td>85922.090378</td>\n",
       "    </tr>\n",
       "    <tr>\n",
       "      <th>2021-08-10</th>\n",
       "      <td>84571.244171</td>\n",
       "    </tr>\n",
       "    <tr>\n",
       "      <th>2021-08-11</th>\n",
       "      <td>83592.386787</td>\n",
       "    </tr>\n",
       "  </tbody>\n",
       "</table>\n",
       "</div>"
      ],
      "text/plain": [
       "                     AUD\n",
       "Date                    \n",
       "2021-08-07  60584.707031\n",
       "2021-08-08  81278.748123\n",
       "2021-08-09  85922.090378\n",
       "2021-08-10  84571.244171\n",
       "2021-08-11  83592.386787"
      ]
     },
     "execution_count": 9,
     "metadata": {},
     "output_type": "execute_result"
    }
   ],
   "source": [
    "portfolio_daily_view.head()"
   ]
  },
  {
   "cell_type": "code",
   "execution_count": null,
   "id": "a13ffa8f-f816-4d5b-a215-1d159968a6a2",
   "metadata": {},
   "outputs": [],
   "source": []
  }
 ],
 "metadata": {
  "kernelspec": {
   "display_name": "Python 3 (ipykernel)",
   "language": "python",
   "name": "python3"
  },
  "language_info": {
   "codemirror_mode": {
    "name": "ipython",
    "version": 3
   },
   "file_extension": ".py",
   "mimetype": "text/x-python",
   "name": "python",
   "nbconvert_exporter": "python",
   "pygments_lexer": "ipython3",
   "version": "3.9.12"
  }
 },
 "nbformat": 4,
 "nbformat_minor": 5
}
