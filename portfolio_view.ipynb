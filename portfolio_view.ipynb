{
 "cells": [
  {
   "cell_type": "code",
   "execution_count": 49,
   "id": "d6cd1075-1b65-4aba-9e2b-91fc49779070",
   "metadata": {},
   "outputs": [],
   "source": [
    "import pandas as pd\n",
    "from datetime import datetime,timedelta\n",
    "import yfinance as yf"
   ]
  },
  {
   "cell_type": "code",
   "execution_count": 2,
   "id": "2834f0b9-1c6f-494e-94e5-b5ad4a164e44",
   "metadata": {},
   "outputs": [],
   "source": [
    "transactions_df = pd.read_csv(\"Resources/Transactions.csv\", parse_dates=True, infer_datetime_format=True)\n"
   ]
  },
  {
   "cell_type": "code",
   "execution_count": 3,
   "id": "27b0e3d1-34ba-4973-bc59-49cc17971473",
   "metadata": {},
   "outputs": [
    {
     "data": {
      "text/html": [
       "<div>\n",
       "<style scoped>\n",
       "    .dataframe tbody tr th:only-of-type {\n",
       "        vertical-align: middle;\n",
       "    }\n",
       "\n",
       "    .dataframe tbody tr th {\n",
       "        vertical-align: top;\n",
       "    }\n",
       "\n",
       "    .dataframe thead th {\n",
       "        text-align: right;\n",
       "    }\n",
       "</style>\n",
       "<table border=\"1\" class=\"dataframe\">\n",
       "  <thead>\n",
       "    <tr style=\"text-align: right;\">\n",
       "      <th></th>\n",
       "      <th>Date</th>\n",
       "      <th>Amount</th>\n",
       "      <th>Currency</th>\n",
       "      <th>Transaction</th>\n",
       "    </tr>\n",
       "  </thead>\n",
       "  <tbody>\n",
       "    <tr>\n",
       "      <th>0</th>\n",
       "      <td>2021-08-07</td>\n",
       "      <td>1</td>\n",
       "      <td>BTC</td>\n",
       "      <td>BUY</td>\n",
       "    </tr>\n",
       "    <tr>\n",
       "      <th>1</th>\n",
       "      <td>2021-08-08</td>\n",
       "      <td>5</td>\n",
       "      <td>ETH</td>\n",
       "      <td>BUY</td>\n",
       "    </tr>\n",
       "    <tr>\n",
       "      <th>2</th>\n",
       "      <td>2021-08-08</td>\n",
       "      <td>20</td>\n",
       "      <td>SOL</td>\n",
       "      <td>BUY</td>\n",
       "    </tr>\n",
       "    <tr>\n",
       "      <th>3</th>\n",
       "      <td>2021-08-11</td>\n",
       "      <td>15</td>\n",
       "      <td>SOL</td>\n",
       "      <td>SELL</td>\n",
       "    </tr>\n",
       "  </tbody>\n",
       "</table>\n",
       "</div>"
      ],
      "text/plain": [
       "         Date  Amount Currency Transaction\n",
       "0  2021-08-07       1      BTC         BUY\n",
       "1  2021-08-08       5      ETH         BUY\n",
       "2  2021-08-08      20      SOL         BUY\n",
       "3  2021-08-11      15      SOL        SELL"
      ]
     },
     "execution_count": 3,
     "metadata": {},
     "output_type": "execute_result"
    }
   ],
   "source": [
    "transactions_df.head()"
   ]
  },
  {
   "cell_type": "code",
   "execution_count": 61,
   "id": "23154175-e5d1-4b6e-8109-6604f511a3bc",
   "metadata": {},
   "outputs": [],
   "source": [
    "def get_price(date,currency):\n",
    "    pair=currency+\"-AUD\"\n",
    "    data = yf.download(pair,date,date + timedelta(days=1))\n",
    "    return data.iloc[0,4]\n",
    "    \n",
    "def calculate_daily_value(date,summary_portfolio_df):\n",
    "    amount_aud = 0\n",
    "    for index, row in summary_portfolio_df.iterrows(): \n",
    "        aud_price = get_price(date,index)\n",
    "        amount_aud += row['Amount'] * aud_price\n",
    "        daily_summary = pd.DataFrame({'Date':[date], 'AUD':[amount_aud]})\n",
    "    \n",
    "    return daily_summary"
   ]
  },
  {
   "cell_type": "code",
   "execution_count": 62,
   "id": "e7cf1ac4-f925-4e4d-911e-5bb94c701b92",
   "metadata": {},
   "outputs": [
    {
     "name": "stdout",
     "output_type": "stream",
     "text": [
      "[*********************100%***********************]  1 of 1 completed\n",
      "[*********************100%***********************]  1 of 1 completed\n",
      "[*********************100%***********************]  1 of 1 completed\n",
      "[*********************100%***********************]  1 of 1 completed\n",
      "[*********************100%***********************]  1 of 1 completed\n",
      "[*********************100%***********************]  1 of 1 completed\n",
      "[*********************100%***********************]  1 of 1 completed\n"
     ]
    },
    {
     "data": {
      "text/html": [
       "<div>\n",
       "<style scoped>\n",
       "    .dataframe tbody tr th:only-of-type {\n",
       "        vertical-align: middle;\n",
       "    }\n",
       "\n",
       "    .dataframe tbody tr th {\n",
       "        vertical-align: top;\n",
       "    }\n",
       "\n",
       "    .dataframe thead th {\n",
       "        text-align: right;\n",
       "    }\n",
       "</style>\n",
       "<table border=\"1\" class=\"dataframe\">\n",
       "  <thead>\n",
       "    <tr style=\"text-align: right;\">\n",
       "      <th></th>\n",
       "      <th>Amount</th>\n",
       "    </tr>\n",
       "    <tr>\n",
       "      <th>Currency</th>\n",
       "      <th></th>\n",
       "    </tr>\n",
       "  </thead>\n",
       "  <tbody>\n",
       "    <tr>\n",
       "      <th>BTC</th>\n",
       "      <td>1</td>\n",
       "    </tr>\n",
       "    <tr>\n",
       "      <th>ETH</th>\n",
       "      <td>5</td>\n",
       "    </tr>\n",
       "    <tr>\n",
       "      <th>SOL</th>\n",
       "      <td>5</td>\n",
       "    </tr>\n",
       "  </tbody>\n",
       "</table>\n",
       "</div>"
      ],
      "text/plain": [
       "         Amount\n",
       "Currency       \n",
       "BTC           1\n",
       "ETH           5\n",
       "SOL           5"
      ]
     },
     "metadata": {},
     "output_type": "display_data"
    },
    {
     "data": {
      "text/html": [
       "<div>\n",
       "<style scoped>\n",
       "    .dataframe tbody tr th:only-of-type {\n",
       "        vertical-align: middle;\n",
       "    }\n",
       "\n",
       "    .dataframe tbody tr th {\n",
       "        vertical-align: top;\n",
       "    }\n",
       "\n",
       "    .dataframe thead th {\n",
       "        text-align: right;\n",
       "    }\n",
       "</style>\n",
       "<table border=\"1\" class=\"dataframe\">\n",
       "  <thead>\n",
       "    <tr style=\"text-align: right;\">\n",
       "      <th></th>\n",
       "      <th>AUD</th>\n",
       "    </tr>\n",
       "    <tr>\n",
       "      <th>Date</th>\n",
       "      <th></th>\n",
       "    </tr>\n",
       "  </thead>\n",
       "  <tbody>\n",
       "    <tr>\n",
       "      <th>2021-08-07</th>\n",
       "      <td>60584.707031</td>\n",
       "    </tr>\n",
       "    <tr>\n",
       "      <th>2021-08-08</th>\n",
       "      <td>81278.748123</td>\n",
       "    </tr>\n",
       "    <tr>\n",
       "      <th>2021-08-11</th>\n",
       "      <td>83592.386787</td>\n",
       "    </tr>\n",
       "  </tbody>\n",
       "</table>\n",
       "</div>"
      ],
      "text/plain": [
       "                     AUD\n",
       "Date                    \n",
       "2021-08-07  60584.707031\n",
       "2021-08-08  81278.748123\n",
       "2021-08-11  83592.386787"
      ]
     },
     "metadata": {},
     "output_type": "display_data"
    }
   ],
   "source": [
    "last_date=0\n",
    "summary_portfolio_df = pd.DataFrame(columns=['Currency','Amount'])\n",
    "summary_portfolio_df.set_index('Currency',inplace=True)\n",
    "daily_portfolio = pd.DataFrame(columns=['Date','AUD'])\n",
    "\n",
    "for index, row in transactions_df.iterrows():\n",
    "    #parse the row\n",
    "    date = datetime.strptime(row['Date'], '%Y-%m-%d')\n",
    "    \n",
    "    if last_date != date:\n",
    "        #Date changed, summarize the day value (ecepet for the first run)\n",
    "        if index > 0:\n",
    "            daily_portfolio =  pd.concat([daily_portfolio,calculate_daily_value(last_date,summary_portfolio_df)])\n",
    "        last_date = date\n",
    "        \n",
    "    currency = row['Currency']\n",
    "    if row['Transaction'] == 'SELL':\n",
    "        amount = -row['Amount']\n",
    "    else:\n",
    "        amount = row['Amount']\n",
    "        \n",
    "    if not currency in summary_portfolio_df.index:\n",
    "        new_row = pd.DataFrame({'Currency':[currency], 'Amount':[amount]})\n",
    "        new_row.set_index('Currency',inplace=True)\n",
    "        summary_portfolio_df = pd.concat([summary_portfolio_df,new_row])\n",
    "    else:\n",
    "        summary_portfolio_df.loc[currency, 'Amount'] += amount   \n",
    "    \n",
    "    #If last day then summarize\n",
    "    if index == len(transactions_df)-1:\n",
    "        daily_portfolio =  pd.concat([daily_portfolio,calculate_daily_value(last_date,summary_portfolio_df)])\n",
    "\n",
    "daily_portfolio.set_index('Date',inplace=True)\n",
    "display(summary_portfolio_df.head())\n",
    "display(daily_portfolio.head())"
   ]
  },
  {
   "cell_type": "code",
   "execution_count": null,
   "id": "02df863e-0cf2-4108-ac33-24b2a7dc3401",
   "metadata": {},
   "outputs": [],
   "source": [
    "#1. Generate all dates\n",
    "transactions_df.sort_values(\n",
    "start_date=transactions_df.iloc[0,0]\n",
    "end_date=transactions_df.iloc[0,0]\n",
    "\n",
    "#2. For every date\n",
    "    #1. Check if transactions exists:\n",
    "        # if yes, update total balance of coins\n",
    "    #2. Calcualte AUD balance\n",
    "    "
   ]
  }
 ],
 "metadata": {
  "kernelspec": {
   "display_name": "Python 3 (ipykernel)",
   "language": "python",
   "name": "python3"
  },
  "language_info": {
   "codemirror_mode": {
    "name": "ipython",
    "version": 3
   },
   "file_extension": ".py",
   "mimetype": "text/x-python",
   "name": "python",
   "nbconvert_exporter": "python",
   "pygments_lexer": "ipython3",
   "version": "3.9.12"
  }
 },
 "nbformat": 4,
 "nbformat_minor": 5
}
