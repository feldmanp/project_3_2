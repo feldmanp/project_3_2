{
 "cells": [
  {
   "cell_type": "code",
   "execution_count": 335,
   "id": "0ea7c6ef-f2cb-4681-9a76-ae77eb4b7034",
   "metadata": {},
   "outputs": [],
   "source": [
    "# Import relevant data libraries\n",
    "\n",
    "import pandas as pd\n",
    "from pathlib import Path\n",
    "import yfinance as yf\n",
    "from datetime import datetime,timedelta"
   ]
  },
  {
   "cell_type": "code",
   "execution_count": 336,
   "id": "ada022c8-9025-4afb-ad01-1f990d91d4a6",
   "metadata": {},
   "outputs": [],
   "source": [
    "# Read csv into DataFrame\n",
    "\n",
    "transactions_df = pd.read_csv(\"Resources/eth_transactions.csv\")"
   ]
  },
  {
   "cell_type": "code",
   "execution_count": 337,
   "id": "1ed549d6-c790-4fa3-812a-51dae63d7d78",
   "metadata": {},
   "outputs": [
    {
     "data": {
      "text/html": [
       "<div>\n",
       "<style scoped>\n",
       "    .dataframe tbody tr th:only-of-type {\n",
       "        vertical-align: middle;\n",
       "    }\n",
       "\n",
       "    .dataframe tbody tr th {\n",
       "        vertical-align: top;\n",
       "    }\n",
       "\n",
       "    .dataframe thead th {\n",
       "        text-align: right;\n",
       "    }\n",
       "</style>\n",
       "<table border=\"1\" class=\"dataframe\">\n",
       "  <thead>\n",
       "    <tr style=\"text-align: right;\">\n",
       "      <th></th>\n",
       "      <th>Unnamed: 0</th>\n",
       "      <th>timestamp</th>\n",
       "      <th>currency</th>\n",
       "      <th>amount</th>\n",
       "    </tr>\n",
       "  </thead>\n",
       "  <tbody>\n",
       "    <tr>\n",
       "      <th>0</th>\n",
       "      <td>0</td>\n",
       "      <td>2022-11-22 13:31:27</td>\n",
       "      <td>ETH</td>\n",
       "      <td>10</td>\n",
       "    </tr>\n",
       "    <tr>\n",
       "      <th>1</th>\n",
       "      <td>0</td>\n",
       "      <td>2022-11-22 13:31:36</td>\n",
       "      <td>ETH</td>\n",
       "      <td>0</td>\n",
       "    </tr>\n",
       "    <tr>\n",
       "      <th>2</th>\n",
       "      <td>0</td>\n",
       "      <td>2022-11-22 13:31:40</td>\n",
       "      <td>ETH</td>\n",
       "      <td>0</td>\n",
       "    </tr>\n",
       "    <tr>\n",
       "      <th>3</th>\n",
       "      <td>0</td>\n",
       "      <td>2022-11-22 13:31:43</td>\n",
       "      <td>ETH</td>\n",
       "      <td>10</td>\n",
       "    </tr>\n",
       "    <tr>\n",
       "      <th>4</th>\n",
       "      <td>0</td>\n",
       "      <td>2022-11-22 13:32:20</td>\n",
       "      <td>ETH</td>\n",
       "      <td>0</td>\n",
       "    </tr>\n",
       "  </tbody>\n",
       "</table>\n",
       "</div>"
      ],
      "text/plain": [
       "   Unnamed: 0            timestamp currency  amount\n",
       "0           0  2022-11-22 13:31:27      ETH      10\n",
       "1           0  2022-11-22 13:31:36      ETH       0\n",
       "2           0  2022-11-22 13:31:40      ETH       0\n",
       "3           0  2022-11-22 13:31:43      ETH      10\n",
       "4           0  2022-11-22 13:32:20      ETH       0"
      ]
     },
     "execution_count": 337,
     "metadata": {},
     "output_type": "execute_result"
    }
   ],
   "source": [
    "#Review DataFrame\n",
    "\n",
    "transactions_df.head()"
   ]
  },
  {
   "cell_type": "code",
   "execution_count": 338,
   "id": "c8cbb8e7-8054-4607-93ec-384bee030ac2",
   "metadata": {},
   "outputs": [
    {
     "data": {
      "text/html": [
       "<div>\n",
       "<style scoped>\n",
       "    .dataframe tbody tr th:only-of-type {\n",
       "        vertical-align: middle;\n",
       "    }\n",
       "\n",
       "    .dataframe tbody tr th {\n",
       "        vertical-align: top;\n",
       "    }\n",
       "\n",
       "    .dataframe thead th {\n",
       "        text-align: right;\n",
       "    }\n",
       "</style>\n",
       "<table border=\"1\" class=\"dataframe\">\n",
       "  <thead>\n",
       "    <tr style=\"text-align: right;\">\n",
       "      <th></th>\n",
       "      <th>Unnamed: 0</th>\n",
       "      <th>timestamp</th>\n",
       "      <th>currency</th>\n",
       "      <th>amount</th>\n",
       "      <th>price</th>\n",
       "      <th>transaction value</th>\n",
       "    </tr>\n",
       "  </thead>\n",
       "  <tbody>\n",
       "    <tr>\n",
       "      <th>0</th>\n",
       "      <td>0</td>\n",
       "      <td>2022-11-22 13:31:27</td>\n",
       "      <td>ETH</td>\n",
       "      <td>10</td>\n",
       "      <td>0</td>\n",
       "      <td>0</td>\n",
       "    </tr>\n",
       "    <tr>\n",
       "      <th>1</th>\n",
       "      <td>0</td>\n",
       "      <td>2022-11-22 13:31:36</td>\n",
       "      <td>ETH</td>\n",
       "      <td>0</td>\n",
       "      <td>0</td>\n",
       "      <td>0</td>\n",
       "    </tr>\n",
       "    <tr>\n",
       "      <th>2</th>\n",
       "      <td>0</td>\n",
       "      <td>2022-11-22 13:31:40</td>\n",
       "      <td>ETH</td>\n",
       "      <td>0</td>\n",
       "      <td>0</td>\n",
       "      <td>0</td>\n",
       "    </tr>\n",
       "    <tr>\n",
       "      <th>3</th>\n",
       "      <td>0</td>\n",
       "      <td>2022-11-22 13:31:43</td>\n",
       "      <td>ETH</td>\n",
       "      <td>10</td>\n",
       "      <td>0</td>\n",
       "      <td>0</td>\n",
       "    </tr>\n",
       "    <tr>\n",
       "      <th>4</th>\n",
       "      <td>0</td>\n",
       "      <td>2022-11-22 13:32:20</td>\n",
       "      <td>ETH</td>\n",
       "      <td>0</td>\n",
       "      <td>0</td>\n",
       "      <td>0</td>\n",
       "    </tr>\n",
       "  </tbody>\n",
       "</table>\n",
       "</div>"
      ],
      "text/plain": [
       "   Unnamed: 0            timestamp currency  amount  price  transaction value\n",
       "0           0  2022-11-22 13:31:27      ETH      10      0                  0\n",
       "1           0  2022-11-22 13:31:36      ETH       0      0                  0\n",
       "2           0  2022-11-22 13:31:40      ETH       0      0                  0\n",
       "3           0  2022-11-22 13:31:43      ETH      10      0                  0\n",
       "4           0  2022-11-22 13:32:20      ETH       0      0                  0"
      ]
     },
     "execution_count": 338,
     "metadata": {},
     "output_type": "execute_result"
    }
   ],
   "source": [
    "# Create column to fill in transactions values in AUD\n",
    "\n",
    "transactions_df['price'] = 0\n",
    "transactions_df['transaction value'] = 0\n",
    "transactions_df.head()"
   ]
  },
  {
   "cell_type": "code",
   "execution_count": 339,
   "id": "edbc5c61-ec53-4c02-a7f9-32dccc1c427b",
   "metadata": {},
   "outputs": [
    {
     "name": "stdout",
     "output_type": "stream",
     "text": [
      "[*********************100%***********************]  1 of 1 completed\n"
     ]
    },
    {
     "data": {
      "text/plain": [
       "1677.3814697265625"
      ]
     },
     "metadata": {},
     "output_type": "display_data"
    },
    {
     "name": "stdout",
     "output_type": "stream",
     "text": [
      "[*********************100%***********************]  1 of 1 completed\n"
     ]
    },
    {
     "data": {
      "text/plain": [
       "1677.3814697265625"
      ]
     },
     "metadata": {},
     "output_type": "display_data"
    },
    {
     "name": "stdout",
     "output_type": "stream",
     "text": [
      "[*********************100%***********************]  1 of 1 completed\n"
     ]
    },
    {
     "data": {
      "text/plain": [
       "1677.3814697265625"
      ]
     },
     "metadata": {},
     "output_type": "display_data"
    },
    {
     "name": "stdout",
     "output_type": "stream",
     "text": [
      "[*********************100%***********************]  1 of 1 completed\n"
     ]
    },
    {
     "data": {
      "text/plain": [
       "1677.3814697265625"
      ]
     },
     "metadata": {},
     "output_type": "display_data"
    },
    {
     "name": "stdout",
     "output_type": "stream",
     "text": [
      "[*********************100%***********************]  1 of 1 completed\n"
     ]
    },
    {
     "data": {
      "text/plain": [
       "1677.3814697265625"
      ]
     },
     "metadata": {},
     "output_type": "display_data"
    },
    {
     "name": "stdout",
     "output_type": "stream",
     "text": [
      "[*********************100%***********************]  1 of 1 completed\n"
     ]
    },
    {
     "data": {
      "text/plain": [
       "1677.3814697265625"
      ]
     },
     "metadata": {},
     "output_type": "display_data"
    },
    {
     "name": "stdout",
     "output_type": "stream",
     "text": [
      "[*********************100%***********************]  1 of 1 completed\n"
     ]
    },
    {
     "data": {
      "text/plain": [
       "1677.3814697265625"
      ]
     },
     "metadata": {},
     "output_type": "display_data"
    },
    {
     "name": "stdout",
     "output_type": "stream",
     "text": [
      "[*********************100%***********************]  1 of 1 completed\n"
     ]
    },
    {
     "data": {
      "text/plain": [
       "1677.3814697265625"
      ]
     },
     "metadata": {},
     "output_type": "display_data"
    },
    {
     "name": "stdout",
     "output_type": "stream",
     "text": [
      "[*********************100%***********************]  1 of 1 completed\n"
     ]
    },
    {
     "data": {
      "text/plain": [
       "1677.3814697265625"
      ]
     },
     "metadata": {},
     "output_type": "display_data"
    },
    {
     "name": "stdout",
     "output_type": "stream",
     "text": [
      "[*********************100%***********************]  1 of 1 completed\n"
     ]
    },
    {
     "data": {
      "text/plain": [
       "1677.3814697265625"
      ]
     },
     "metadata": {},
     "output_type": "display_data"
    },
    {
     "name": "stdout",
     "output_type": "stream",
     "text": [
      "[*********************100%***********************]  1 of 1 completed\n"
     ]
    },
    {
     "data": {
      "text/plain": [
       "1677.3814697265625"
      ]
     },
     "metadata": {},
     "output_type": "display_data"
    },
    {
     "name": "stdout",
     "output_type": "stream",
     "text": [
      "[*********************100%***********************]  1 of 1 completed\n"
     ]
    },
    {
     "data": {
      "text/plain": [
       "1677.3814697265625"
      ]
     },
     "metadata": {},
     "output_type": "display_data"
    },
    {
     "name": "stdout",
     "output_type": "stream",
     "text": [
      "[*********************100%***********************]  1 of 1 completed\n"
     ]
    },
    {
     "data": {
      "text/plain": [
       "1677.3814697265625"
      ]
     },
     "metadata": {},
     "output_type": "display_data"
    },
    {
     "name": "stdout",
     "output_type": "stream",
     "text": [
      "[*********************100%***********************]  1 of 1 completed\n"
     ]
    },
    {
     "data": {
      "text/plain": [
       "1677.3814697265625"
      ]
     },
     "metadata": {},
     "output_type": "display_data"
    },
    {
     "name": "stdout",
     "output_type": "stream",
     "text": [
      "[*********************100%***********************]  1 of 1 completed\n"
     ]
    },
    {
     "data": {
      "text/plain": [
       "1677.3814697265625"
      ]
     },
     "metadata": {},
     "output_type": "display_data"
    },
    {
     "name": "stdout",
     "output_type": "stream",
     "text": [
      "[*********************100%***********************]  1 of 1 completed\n"
     ]
    },
    {
     "data": {
      "text/plain": [
       "1677.3814697265625"
      ]
     },
     "metadata": {},
     "output_type": "display_data"
    },
    {
     "name": "stdout",
     "output_type": "stream",
     "text": [
      "[*********************100%***********************]  1 of 1 completed\n"
     ]
    },
    {
     "data": {
      "text/plain": [
       "1677.3814697265625"
      ]
     },
     "metadata": {},
     "output_type": "display_data"
    },
    {
     "name": "stdout",
     "output_type": "stream",
     "text": [
      "[*********************100%***********************]  1 of 1 completed\n"
     ]
    },
    {
     "data": {
      "text/plain": [
       "1677.3814697265625"
      ]
     },
     "metadata": {},
     "output_type": "display_data"
    },
    {
     "name": "stdout",
     "output_type": "stream",
     "text": [
      "[*********************100%***********************]  1 of 1 completed\n"
     ]
    },
    {
     "data": {
      "text/plain": [
       "1677.3814697265625"
      ]
     },
     "metadata": {},
     "output_type": "display_data"
    },
    {
     "name": "stdout",
     "output_type": "stream",
     "text": [
      "[*********************100%***********************]  1 of 1 completed\n"
     ]
    },
    {
     "data": {
      "text/plain": [
       "1677.3814697265625"
      ]
     },
     "metadata": {},
     "output_type": "display_data"
    },
    {
     "name": "stdout",
     "output_type": "stream",
     "text": [
      "[*********************100%***********************]  1 of 1 completed\n"
     ]
    },
    {
     "data": {
      "text/plain": [
       "1707.5845947265625"
      ]
     },
     "metadata": {},
     "output_type": "display_data"
    },
    {
     "name": "stdout",
     "output_type": "stream",
     "text": [
      "[*********************100%***********************]  1 of 1 completed\n"
     ]
    },
    {
     "data": {
      "text/plain": [
       "1707.5845947265625"
      ]
     },
     "metadata": {},
     "output_type": "display_data"
    },
    {
     "name": "stdout",
     "output_type": "stream",
     "text": [
      "[*********************100%***********************]  1 of 1 completed\n"
     ]
    },
    {
     "data": {
      "text/plain": [
       "1707.5845947265625"
      ]
     },
     "metadata": {},
     "output_type": "display_data"
    },
    {
     "name": "stdout",
     "output_type": "stream",
     "text": [
      "[*********************100%***********************]  1 of 1 completed\n"
     ]
    },
    {
     "data": {
      "text/plain": [
       "1707.5845947265625"
      ]
     },
     "metadata": {},
     "output_type": "display_data"
    },
    {
     "name": "stdout",
     "output_type": "stream",
     "text": [
      "[*********************100%***********************]  1 of 1 completed\n"
     ]
    },
    {
     "data": {
      "text/plain": [
       "1707.5845947265625"
      ]
     },
     "metadata": {},
     "output_type": "display_data"
    },
    {
     "name": "stdout",
     "output_type": "stream",
     "text": [
      "[*********************100%***********************]  1 of 1 completed\n"
     ]
    },
    {
     "data": {
      "text/plain": [
       "1707.5845947265625"
      ]
     },
     "metadata": {},
     "output_type": "display_data"
    },
    {
     "name": "stdout",
     "output_type": "stream",
     "text": [
      "[*********************100%***********************]  1 of 1 completed\n"
     ]
    },
    {
     "data": {
      "text/plain": [
       "1707.5845947265625"
      ]
     },
     "metadata": {},
     "output_type": "display_data"
    },
    {
     "name": "stdout",
     "output_type": "stream",
     "text": [
      "[*********************100%***********************]  1 of 1 completed\n"
     ]
    },
    {
     "data": {
      "text/plain": [
       "1707.5845947265625"
      ]
     },
     "metadata": {},
     "output_type": "display_data"
    },
    {
     "name": "stdout",
     "output_type": "stream",
     "text": [
      "[*********************100%***********************]  1 of 1 completed\n"
     ]
    },
    {
     "data": {
      "text/plain": [
       "1707.5845947265625"
      ]
     },
     "metadata": {},
     "output_type": "display_data"
    },
    {
     "name": "stdout",
     "output_type": "stream",
     "text": [
      "[*********************100%***********************]  1 of 1 completed\n"
     ]
    },
    {
     "data": {
      "text/plain": [
       "1707.5845947265625"
      ]
     },
     "metadata": {},
     "output_type": "display_data"
    },
    {
     "name": "stdout",
     "output_type": "stream",
     "text": [
      "[*********************100%***********************]  1 of 1 completed\n"
     ]
    },
    {
     "data": {
      "text/plain": [
       "1707.5845947265625"
      ]
     },
     "metadata": {},
     "output_type": "display_data"
    },
    {
     "name": "stdout",
     "output_type": "stream",
     "text": [
      "[*********************100%***********************]  1 of 1 completed\n"
     ]
    },
    {
     "data": {
      "text/plain": [
       "1707.5845947265625"
      ]
     },
     "metadata": {},
     "output_type": "display_data"
    },
    {
     "name": "stdout",
     "output_type": "stream",
     "text": [
      "[*********************100%***********************]  1 of 1 completed\n"
     ]
    },
    {
     "data": {
      "text/plain": [
       "1707.5845947265625"
      ]
     },
     "metadata": {},
     "output_type": "display_data"
    },
    {
     "name": "stdout",
     "output_type": "stream",
     "text": [
      "[*********************100%***********************]  1 of 1 completed\n"
     ]
    },
    {
     "data": {
      "text/plain": [
       "1707.5845947265625"
      ]
     },
     "metadata": {},
     "output_type": "display_data"
    },
    {
     "name": "stdout",
     "output_type": "stream",
     "text": [
      "[*********************100%***********************]  1 of 1 completed\n"
     ]
    },
    {
     "data": {
      "text/plain": [
       "1707.5845947265625"
      ]
     },
     "metadata": {},
     "output_type": "display_data"
    },
    {
     "name": "stdout",
     "output_type": "stream",
     "text": [
      "[*********************100%***********************]  1 of 1 completed\n"
     ]
    },
    {
     "data": {
      "text/plain": [
       "1707.5845947265625"
      ]
     },
     "metadata": {},
     "output_type": "display_data"
    },
    {
     "name": "stdout",
     "output_type": "stream",
     "text": [
      "[*********************100%***********************]  1 of 1 completed\n"
     ]
    },
    {
     "data": {
      "text/plain": [
       "1707.5845947265625"
      ]
     },
     "metadata": {},
     "output_type": "display_data"
    },
    {
     "name": "stdout",
     "output_type": "stream",
     "text": [
      "[*********************100%***********************]  1 of 1 completed\n"
     ]
    },
    {
     "data": {
      "text/plain": [
       "1707.5845947265625"
      ]
     },
     "metadata": {},
     "output_type": "display_data"
    },
    {
     "name": "stdout",
     "output_type": "stream",
     "text": [
      "[*********************100%***********************]  1 of 1 completed\n"
     ]
    },
    {
     "data": {
      "text/plain": [
       "1707.5845947265625"
      ]
     },
     "metadata": {},
     "output_type": "display_data"
    },
    {
     "name": "stdout",
     "output_type": "stream",
     "text": [
      "[*********************100%***********************]  1 of 1 completed\n"
     ]
    },
    {
     "data": {
      "text/plain": [
       "1707.5845947265625"
      ]
     },
     "metadata": {},
     "output_type": "display_data"
    }
   ],
   "source": [
    "# Get prices and multiply by amount transacted + fill into table\n",
    "\n",
    "def get_price(date,currency):\n",
    "    pair=currency+\"-AUD\"\n",
    "    data = yf.download(pair,date,date + timedelta(days=1))\n",
    "    display(data.iloc[0,4])\n",
    "    return data.iloc[0,4]\n",
    "\n",
    "transactions_df[\"date\"]=transactions_df[\"timestamp\"].str[:10]\n",
    "\n",
    "for index, row in transactions_df.iterrows():\n",
    "    date = datetime.strptime(row[\"date\"],'%Y-%m-%d')\n",
    "    currency=row[\"currency\"]\n",
    "    amount=row[\"amount\"]\n",
    "    price=row[\"price\"]\n",
    "    transactions_df.loc[index,\"price\"]=get_price(date,currency)\n",
    "    transactions_df.loc[index,\"transaction value\"]=get_price(date,currency)*amount"
   ]
  },
  {
   "cell_type": "code",
   "execution_count": 330,
   "id": "80c93c1e-8b08-4fe2-9f9c-ffcbb831f706",
   "metadata": {},
   "outputs": [
    {
     "data": {
      "text/html": [
       "<div>\n",
       "<style scoped>\n",
       "    .dataframe tbody tr th:only-of-type {\n",
       "        vertical-align: middle;\n",
       "    }\n",
       "\n",
       "    .dataframe tbody tr th {\n",
       "        vertical-align: top;\n",
       "    }\n",
       "\n",
       "    .dataframe thead th {\n",
       "        text-align: right;\n",
       "    }\n",
       "</style>\n",
       "<table border=\"1\" class=\"dataframe\">\n",
       "  <thead>\n",
       "    <tr style=\"text-align: right;\">\n",
       "      <th></th>\n",
       "      <th>Unnamed: 0</th>\n",
       "      <th>timestamp</th>\n",
       "      <th>currency</th>\n",
       "      <th>amount</th>\n",
       "      <th>price</th>\n",
       "      <th>transaction value</th>\n",
       "      <th>date</th>\n",
       "    </tr>\n",
       "  </thead>\n",
       "  <tbody>\n",
       "    <tr>\n",
       "      <th>0</th>\n",
       "      <td>0</td>\n",
       "      <td>2022-11-22 13:31:27</td>\n",
       "      <td>ETH</td>\n",
       "      <td>10</td>\n",
       "      <td>1677.381470</td>\n",
       "      <td>16773.814697</td>\n",
       "      <td>2022-11-22</td>\n",
       "    </tr>\n",
       "    <tr>\n",
       "      <th>1</th>\n",
       "      <td>0</td>\n",
       "      <td>2022-11-22 13:31:36</td>\n",
       "      <td>ETH</td>\n",
       "      <td>0</td>\n",
       "      <td>1677.381470</td>\n",
       "      <td>0.000000</td>\n",
       "      <td>2022-11-22</td>\n",
       "    </tr>\n",
       "    <tr>\n",
       "      <th>2</th>\n",
       "      <td>0</td>\n",
       "      <td>2022-11-22 13:31:40</td>\n",
       "      <td>ETH</td>\n",
       "      <td>0</td>\n",
       "      <td>1677.381470</td>\n",
       "      <td>0.000000</td>\n",
       "      <td>2022-11-22</td>\n",
       "    </tr>\n",
       "    <tr>\n",
       "      <th>3</th>\n",
       "      <td>0</td>\n",
       "      <td>2022-11-22 13:31:43</td>\n",
       "      <td>ETH</td>\n",
       "      <td>10</td>\n",
       "      <td>1677.381470</td>\n",
       "      <td>16773.814697</td>\n",
       "      <td>2022-11-22</td>\n",
       "    </tr>\n",
       "    <tr>\n",
       "      <th>4</th>\n",
       "      <td>0</td>\n",
       "      <td>2022-11-22 13:32:20</td>\n",
       "      <td>ETH</td>\n",
       "      <td>0</td>\n",
       "      <td>1677.381470</td>\n",
       "      <td>0.000000</td>\n",
       "      <td>2022-11-22</td>\n",
       "    </tr>\n",
       "    <tr>\n",
       "      <th>5</th>\n",
       "      <td>0</td>\n",
       "      <td>2022-11-22 13:32:43</td>\n",
       "      <td>ETH</td>\n",
       "      <td>0</td>\n",
       "      <td>1677.381470</td>\n",
       "      <td>0.000000</td>\n",
       "      <td>2022-11-22</td>\n",
       "    </tr>\n",
       "    <tr>\n",
       "      <th>6</th>\n",
       "      <td>0</td>\n",
       "      <td>2022-11-22 18:45:33</td>\n",
       "      <td>ETH</td>\n",
       "      <td>-1</td>\n",
       "      <td>1677.381470</td>\n",
       "      <td>-1677.381470</td>\n",
       "      <td>2022-11-22</td>\n",
       "    </tr>\n",
       "    <tr>\n",
       "      <th>7</th>\n",
       "      <td>0</td>\n",
       "      <td>2022-11-22 18:46:33</td>\n",
       "      <td>ETH</td>\n",
       "      <td>-1</td>\n",
       "      <td>1677.381470</td>\n",
       "      <td>-1677.381470</td>\n",
       "      <td>2022-11-22</td>\n",
       "    </tr>\n",
       "    <tr>\n",
       "      <th>8</th>\n",
       "      <td>0</td>\n",
       "      <td>2022-11-22 18:57:24</td>\n",
       "      <td>ETH</td>\n",
       "      <td>-1</td>\n",
       "      <td>1677.381470</td>\n",
       "      <td>-1677.381470</td>\n",
       "      <td>2022-11-22</td>\n",
       "    </tr>\n",
       "    <tr>\n",
       "      <th>9</th>\n",
       "      <td>0</td>\n",
       "      <td>2022-11-22 19:01:29</td>\n",
       "      <td>ETH</td>\n",
       "      <td>-1</td>\n",
       "      <td>1677.381470</td>\n",
       "      <td>-1677.381470</td>\n",
       "      <td>2022-11-22</td>\n",
       "    </tr>\n",
       "    <tr>\n",
       "      <th>10</th>\n",
       "      <td>0</td>\n",
       "      <td>2022-11-23 13:31:27</td>\n",
       "      <td>ETH</td>\n",
       "      <td>-10</td>\n",
       "      <td>1707.584595</td>\n",
       "      <td>-17075.845947</td>\n",
       "      <td>2022-11-23</td>\n",
       "    </tr>\n",
       "    <tr>\n",
       "      <th>11</th>\n",
       "      <td>0</td>\n",
       "      <td>2022-11-23 13:31:27</td>\n",
       "      <td>ETH</td>\n",
       "      <td>0</td>\n",
       "      <td>1707.584595</td>\n",
       "      <td>0.000000</td>\n",
       "      <td>2022-11-23</td>\n",
       "    </tr>\n",
       "    <tr>\n",
       "      <th>12</th>\n",
       "      <td>0</td>\n",
       "      <td>2022-11-23 13:31:27</td>\n",
       "      <td>ETH</td>\n",
       "      <td>0</td>\n",
       "      <td>1707.584595</td>\n",
       "      <td>0.000000</td>\n",
       "      <td>2022-11-23</td>\n",
       "    </tr>\n",
       "    <tr>\n",
       "      <th>13</th>\n",
       "      <td>0</td>\n",
       "      <td>2022-11-23 13:31:27</td>\n",
       "      <td>ETH</td>\n",
       "      <td>-1</td>\n",
       "      <td>1707.584595</td>\n",
       "      <td>-1707.584595</td>\n",
       "      <td>2022-11-23</td>\n",
       "    </tr>\n",
       "    <tr>\n",
       "      <th>14</th>\n",
       "      <td>0</td>\n",
       "      <td>2022-11-23 13:31:27</td>\n",
       "      <td>ETH</td>\n",
       "      <td>0</td>\n",
       "      <td>1707.584595</td>\n",
       "      <td>0.000000</td>\n",
       "      <td>2022-11-23</td>\n",
       "    </tr>\n",
       "    <tr>\n",
       "      <th>15</th>\n",
       "      <td>0</td>\n",
       "      <td>2022-11-23 13:31:27</td>\n",
       "      <td>ETH</td>\n",
       "      <td>0</td>\n",
       "      <td>1707.584595</td>\n",
       "      <td>0.000000</td>\n",
       "      <td>2022-11-23</td>\n",
       "    </tr>\n",
       "    <tr>\n",
       "      <th>16</th>\n",
       "      <td>0</td>\n",
       "      <td>2022-11-23 13:31:27</td>\n",
       "      <td>ETH</td>\n",
       "      <td>-1</td>\n",
       "      <td>1707.584595</td>\n",
       "      <td>-1707.584595</td>\n",
       "      <td>2022-11-23</td>\n",
       "    </tr>\n",
       "    <tr>\n",
       "      <th>17</th>\n",
       "      <td>0</td>\n",
       "      <td>2022-11-23 13:31:27</td>\n",
       "      <td>ETH</td>\n",
       "      <td>-1</td>\n",
       "      <td>1707.584595</td>\n",
       "      <td>-1707.584595</td>\n",
       "      <td>2022-11-23</td>\n",
       "    </tr>\n",
       "    <tr>\n",
       "      <th>18</th>\n",
       "      <td>0</td>\n",
       "      <td>2022-11-23 13:31:27</td>\n",
       "      <td>ETH</td>\n",
       "      <td>-1</td>\n",
       "      <td>1707.584595</td>\n",
       "      <td>-1707.584595</td>\n",
       "      <td>2022-11-23</td>\n",
       "    </tr>\n",
       "    <tr>\n",
       "      <th>19</th>\n",
       "      <td>0</td>\n",
       "      <td>2022-11-23 13:31:27</td>\n",
       "      <td>ETH</td>\n",
       "      <td>-1</td>\n",
       "      <td>1707.584595</td>\n",
       "      <td>-1707.584595</td>\n",
       "      <td>2022-11-23</td>\n",
       "    </tr>\n",
       "  </tbody>\n",
       "</table>\n",
       "</div>"
      ],
      "text/plain": [
       "    Unnamed: 0            timestamp currency  amount        price  \\\n",
       "0            0  2022-11-22 13:31:27      ETH      10  1677.381470   \n",
       "1            0  2022-11-22 13:31:36      ETH       0  1677.381470   \n",
       "2            0  2022-11-22 13:31:40      ETH       0  1677.381470   \n",
       "3            0  2022-11-22 13:31:43      ETH      10  1677.381470   \n",
       "4            0  2022-11-22 13:32:20      ETH       0  1677.381470   \n",
       "5            0  2022-11-22 13:32:43      ETH       0  1677.381470   \n",
       "6            0  2022-11-22 18:45:33      ETH      -1  1677.381470   \n",
       "7            0  2022-11-22 18:46:33      ETH      -1  1677.381470   \n",
       "8            0  2022-11-22 18:57:24      ETH      -1  1677.381470   \n",
       "9            0  2022-11-22 19:01:29      ETH      -1  1677.381470   \n",
       "10           0  2022-11-23 13:31:27      ETH     -10  1707.584595   \n",
       "11           0  2022-11-23 13:31:27      ETH       0  1707.584595   \n",
       "12           0  2022-11-23 13:31:27      ETH       0  1707.584595   \n",
       "13           0  2022-11-23 13:31:27      ETH      -1  1707.584595   \n",
       "14           0  2022-11-23 13:31:27      ETH       0  1707.584595   \n",
       "15           0  2022-11-23 13:31:27      ETH       0  1707.584595   \n",
       "16           0  2022-11-23 13:31:27      ETH      -1  1707.584595   \n",
       "17           0  2022-11-23 13:31:27      ETH      -1  1707.584595   \n",
       "18           0  2022-11-23 13:31:27      ETH      -1  1707.584595   \n",
       "19           0  2022-11-23 13:31:27      ETH      -1  1707.584595   \n",
       "\n",
       "    transaction value        date  \n",
       "0        16773.814697  2022-11-22  \n",
       "1            0.000000  2022-11-22  \n",
       "2            0.000000  2022-11-22  \n",
       "3        16773.814697  2022-11-22  \n",
       "4            0.000000  2022-11-22  \n",
       "5            0.000000  2022-11-22  \n",
       "6        -1677.381470  2022-11-22  \n",
       "7        -1677.381470  2022-11-22  \n",
       "8        -1677.381470  2022-11-22  \n",
       "9        -1677.381470  2022-11-22  \n",
       "10      -17075.845947  2022-11-23  \n",
       "11           0.000000  2022-11-23  \n",
       "12           0.000000  2022-11-23  \n",
       "13       -1707.584595  2022-11-23  \n",
       "14           0.000000  2022-11-23  \n",
       "15           0.000000  2022-11-23  \n",
       "16       -1707.584595  2022-11-23  \n",
       "17       -1707.584595  2022-11-23  \n",
       "18       -1707.584595  2022-11-23  \n",
       "19       -1707.584595  2022-11-23  "
      ]
     },
     "execution_count": 330,
     "metadata": {},
     "output_type": "execute_result"
    }
   ],
   "source": [
    "# Review DataFrame\n",
    "\n",
    "transactions_df"
   ]
  },
  {
   "cell_type": "code",
   "execution_count": 331,
   "id": "9d7d3ab8-c874-4046-a976-d5c91e5c057a",
   "metadata": {},
   "outputs": [
    {
     "data": {
      "text/html": [
       "<div>\n",
       "<style scoped>\n",
       "    .dataframe tbody tr th:only-of-type {\n",
       "        vertical-align: middle;\n",
       "    }\n",
       "\n",
       "    .dataframe tbody tr th {\n",
       "        vertical-align: top;\n",
       "    }\n",
       "\n",
       "    .dataframe thead th {\n",
       "        text-align: right;\n",
       "    }\n",
       "</style>\n",
       "<table border=\"1\" class=\"dataframe\">\n",
       "  <thead>\n",
       "    <tr style=\"text-align: right;\">\n",
       "      <th></th>\n",
       "      <th>Unnamed: 0</th>\n",
       "      <th>timestamp</th>\n",
       "      <th>currency</th>\n",
       "      <th>amount</th>\n",
       "      <th>price</th>\n",
       "      <th>transaction value</th>\n",
       "      <th>date</th>\n",
       "    </tr>\n",
       "  </thead>\n",
       "  <tbody>\n",
       "    <tr>\n",
       "      <th>6</th>\n",
       "      <td>0</td>\n",
       "      <td>2022-11-22 18:45:33</td>\n",
       "      <td>ETH</td>\n",
       "      <td>-1</td>\n",
       "      <td>1677.381470</td>\n",
       "      <td>-1677.381470</td>\n",
       "      <td>2022-11-22</td>\n",
       "    </tr>\n",
       "    <tr>\n",
       "      <th>7</th>\n",
       "      <td>0</td>\n",
       "      <td>2022-11-22 18:46:33</td>\n",
       "      <td>ETH</td>\n",
       "      <td>-1</td>\n",
       "      <td>1677.381470</td>\n",
       "      <td>-1677.381470</td>\n",
       "      <td>2022-11-22</td>\n",
       "    </tr>\n",
       "    <tr>\n",
       "      <th>8</th>\n",
       "      <td>0</td>\n",
       "      <td>2022-11-22 18:57:24</td>\n",
       "      <td>ETH</td>\n",
       "      <td>-1</td>\n",
       "      <td>1677.381470</td>\n",
       "      <td>-1677.381470</td>\n",
       "      <td>2022-11-22</td>\n",
       "    </tr>\n",
       "    <tr>\n",
       "      <th>9</th>\n",
       "      <td>0</td>\n",
       "      <td>2022-11-22 19:01:29</td>\n",
       "      <td>ETH</td>\n",
       "      <td>-1</td>\n",
       "      <td>1677.381470</td>\n",
       "      <td>-1677.381470</td>\n",
       "      <td>2022-11-22</td>\n",
       "    </tr>\n",
       "    <tr>\n",
       "      <th>10</th>\n",
       "      <td>0</td>\n",
       "      <td>2022-11-23 13:31:27</td>\n",
       "      <td>ETH</td>\n",
       "      <td>-10</td>\n",
       "      <td>1707.584595</td>\n",
       "      <td>-17075.845947</td>\n",
       "      <td>2022-11-23</td>\n",
       "    </tr>\n",
       "    <tr>\n",
       "      <th>13</th>\n",
       "      <td>0</td>\n",
       "      <td>2022-11-23 13:31:27</td>\n",
       "      <td>ETH</td>\n",
       "      <td>-1</td>\n",
       "      <td>1707.584595</td>\n",
       "      <td>-1707.584595</td>\n",
       "      <td>2022-11-23</td>\n",
       "    </tr>\n",
       "    <tr>\n",
       "      <th>16</th>\n",
       "      <td>0</td>\n",
       "      <td>2022-11-23 13:31:27</td>\n",
       "      <td>ETH</td>\n",
       "      <td>-1</td>\n",
       "      <td>1707.584595</td>\n",
       "      <td>-1707.584595</td>\n",
       "      <td>2022-11-23</td>\n",
       "    </tr>\n",
       "    <tr>\n",
       "      <th>17</th>\n",
       "      <td>0</td>\n",
       "      <td>2022-11-23 13:31:27</td>\n",
       "      <td>ETH</td>\n",
       "      <td>-1</td>\n",
       "      <td>1707.584595</td>\n",
       "      <td>-1707.584595</td>\n",
       "      <td>2022-11-23</td>\n",
       "    </tr>\n",
       "    <tr>\n",
       "      <th>18</th>\n",
       "      <td>0</td>\n",
       "      <td>2022-11-23 13:31:27</td>\n",
       "      <td>ETH</td>\n",
       "      <td>-1</td>\n",
       "      <td>1707.584595</td>\n",
       "      <td>-1707.584595</td>\n",
       "      <td>2022-11-23</td>\n",
       "    </tr>\n",
       "    <tr>\n",
       "      <th>19</th>\n",
       "      <td>0</td>\n",
       "      <td>2022-11-23 13:31:27</td>\n",
       "      <td>ETH</td>\n",
       "      <td>-1</td>\n",
       "      <td>1707.584595</td>\n",
       "      <td>-1707.584595</td>\n",
       "      <td>2022-11-23</td>\n",
       "    </tr>\n",
       "  </tbody>\n",
       "</table>\n",
       "</div>"
      ],
      "text/plain": [
       "    Unnamed: 0            timestamp currency  amount        price  \\\n",
       "6            0  2022-11-22 18:45:33      ETH      -1  1677.381470   \n",
       "7            0  2022-11-22 18:46:33      ETH      -1  1677.381470   \n",
       "8            0  2022-11-22 18:57:24      ETH      -1  1677.381470   \n",
       "9            0  2022-11-22 19:01:29      ETH      -1  1677.381470   \n",
       "10           0  2022-11-23 13:31:27      ETH     -10  1707.584595   \n",
       "13           0  2022-11-23 13:31:27      ETH      -1  1707.584595   \n",
       "16           0  2022-11-23 13:31:27      ETH      -1  1707.584595   \n",
       "17           0  2022-11-23 13:31:27      ETH      -1  1707.584595   \n",
       "18           0  2022-11-23 13:31:27      ETH      -1  1707.584595   \n",
       "19           0  2022-11-23 13:31:27      ETH      -1  1707.584595   \n",
       "\n",
       "    transaction value        date  \n",
       "6        -1677.381470  2022-11-22  \n",
       "7        -1677.381470  2022-11-22  \n",
       "8        -1677.381470  2022-11-22  \n",
       "9        -1677.381470  2022-11-22  \n",
       "10      -17075.845947  2022-11-23  \n",
       "13       -1707.584595  2022-11-23  \n",
       "16       -1707.584595  2022-11-23  \n",
       "17       -1707.584595  2022-11-23  \n",
       "18       -1707.584595  2022-11-23  \n",
       "19       -1707.584595  2022-11-23  "
      ]
     },
     "execution_count": 331,
     "metadata": {},
     "output_type": "execute_result"
    }
   ],
   "source": [
    "# Split DataFrame between BUY's and SELL's\n",
    "\n",
    "sell_df = transactions_df.loc[transactions_df[\"amount\"]<0]\n",
    "buy_df = transactions_df.loc[transactions_df[\"amount\"]>0]\n",
    "sell_df"
   ]
  },
  {
   "cell_type": "code",
   "execution_count": 332,
   "id": "b5354c09-fa64-4438-8d2c-6b48d2d7a6c6",
   "metadata": {},
   "outputs": [
    {
     "data": {
      "text/html": [
       "<div>\n",
       "<style scoped>\n",
       "    .dataframe tbody tr th:only-of-type {\n",
       "        vertical-align: middle;\n",
       "    }\n",
       "\n",
       "    .dataframe tbody tr th {\n",
       "        vertical-align: top;\n",
       "    }\n",
       "\n",
       "    .dataframe thead th {\n",
       "        text-align: right;\n",
       "    }\n",
       "</style>\n",
       "<table border=\"1\" class=\"dataframe\">\n",
       "  <thead>\n",
       "    <tr style=\"text-align: right;\">\n",
       "      <th></th>\n",
       "      <th>Unnamed: 0</th>\n",
       "      <th>timestamp</th>\n",
       "      <th>currency</th>\n",
       "      <th>amount</th>\n",
       "      <th>price</th>\n",
       "      <th>transaction value</th>\n",
       "      <th>date</th>\n",
       "    </tr>\n",
       "  </thead>\n",
       "  <tbody>\n",
       "    <tr>\n",
       "      <th>0</th>\n",
       "      <td>0</td>\n",
       "      <td>2022-11-22 13:31:27</td>\n",
       "      <td>ETH</td>\n",
       "      <td>10</td>\n",
       "      <td>1677.38147</td>\n",
       "      <td>16773.814697</td>\n",
       "      <td>2022-11-22</td>\n",
       "    </tr>\n",
       "    <tr>\n",
       "      <th>3</th>\n",
       "      <td>0</td>\n",
       "      <td>2022-11-22 13:31:43</td>\n",
       "      <td>ETH</td>\n",
       "      <td>10</td>\n",
       "      <td>1677.38147</td>\n",
       "      <td>16773.814697</td>\n",
       "      <td>2022-11-22</td>\n",
       "    </tr>\n",
       "  </tbody>\n",
       "</table>\n",
       "</div>"
      ],
      "text/plain": [
       "   Unnamed: 0            timestamp currency  amount       price  \\\n",
       "0           0  2022-11-22 13:31:27      ETH      10  1677.38147   \n",
       "3           0  2022-11-22 13:31:43      ETH      10  1677.38147   \n",
       "\n",
       "   transaction value        date  \n",
       "0       16773.814697  2022-11-22  \n",
       "3       16773.814697  2022-11-22  "
      ]
     },
     "execution_count": 332,
     "metadata": {},
     "output_type": "execute_result"
    }
   ],
   "source": [
    "buy_df"
   ]
  },
  {
   "cell_type": "code",
   "execution_count": 333,
   "id": "77013dab-c00b-4110-8597-f60dbc727b18",
   "metadata": {},
   "outputs": [
    {
     "data": {
      "text/html": [
       "<div>\n",
       "<style scoped>\n",
       "    .dataframe tbody tr th:only-of-type {\n",
       "        vertical-align: middle;\n",
       "    }\n",
       "\n",
       "    .dataframe tbody tr th {\n",
       "        vertical-align: top;\n",
       "    }\n",
       "\n",
       "    .dataframe thead th {\n",
       "        text-align: right;\n",
       "    }\n",
       "</style>\n",
       "<table border=\"1\" class=\"dataframe\">\n",
       "  <thead>\n",
       "    <tr style=\"text-align: right;\">\n",
       "      <th></th>\n",
       "      <th>sell date</th>\n",
       "      <th>return</th>\n",
       "      <th>cost base</th>\n",
       "      <th>net return</th>\n",
       "    </tr>\n",
       "  </thead>\n",
       "  <tbody>\n",
       "  </tbody>\n",
       "</table>\n",
       "</div>"
      ],
      "text/plain": [
       "Empty DataFrame\n",
       "Columns: [sell date, return, cost base, net return]\n",
       "Index: []"
      ]
     },
     "execution_count": 333,
     "metadata": {},
     "output_type": "execute_result"
    }
   ],
   "source": [
    "tax_events_df = pd.DataFrame(columns=['sell date','return','cost base','net return'])\n",
    "tax_events_df.head()"
   ]
  },
  {
   "cell_type": "code",
   "execution_count": 334,
   "id": "0bdf4726-9ca4-4dc3-86c7-8bee1a06e221",
   "metadata": {},
   "outputs": [
    {
     "data": {
      "text/html": [
       "<div>\n",
       "<style scoped>\n",
       "    .dataframe tbody tr th:only-of-type {\n",
       "        vertical-align: middle;\n",
       "    }\n",
       "\n",
       "    .dataframe tbody tr th {\n",
       "        vertical-align: top;\n",
       "    }\n",
       "\n",
       "    .dataframe thead th {\n",
       "        text-align: right;\n",
       "    }\n",
       "</style>\n",
       "<table border=\"1\" class=\"dataframe\">\n",
       "  <thead>\n",
       "    <tr style=\"text-align: right;\">\n",
       "      <th></th>\n",
       "      <th>sell date</th>\n",
       "      <th>return</th>\n",
       "      <th>cost base</th>\n",
       "      <th>net return</th>\n",
       "    </tr>\n",
       "  </thead>\n",
       "  <tbody>\n",
       "    <tr>\n",
       "      <th>0</th>\n",
       "      <td>2022-11-23</td>\n",
       "      <td>1707.584595</td>\n",
       "      <td>-1677.381470</td>\n",
       "      <td>30.203125</td>\n",
       "    </tr>\n",
       "    <tr>\n",
       "      <th>0</th>\n",
       "      <td>2022-11-23</td>\n",
       "      <td>1707.584595</td>\n",
       "      <td>-1677.381470</td>\n",
       "      <td>30.203125</td>\n",
       "    </tr>\n",
       "    <tr>\n",
       "      <th>0</th>\n",
       "      <td>2022-11-23</td>\n",
       "      <td>1707.584595</td>\n",
       "      <td>-1677.381470</td>\n",
       "      <td>30.203125</td>\n",
       "    </tr>\n",
       "    <tr>\n",
       "      <th>0</th>\n",
       "      <td>2022-11-23</td>\n",
       "      <td>1707.584595</td>\n",
       "      <td>-1677.381470</td>\n",
       "      <td>30.203125</td>\n",
       "    </tr>\n",
       "    <tr>\n",
       "      <th>0</th>\n",
       "      <td>2022-11-23</td>\n",
       "      <td>1707.584595</td>\n",
       "      <td>-1677.381470</td>\n",
       "      <td>30.203125</td>\n",
       "    </tr>\n",
       "    <tr>\n",
       "      <th>0</th>\n",
       "      <td>2022-11-23</td>\n",
       "      <td>17075.845947</td>\n",
       "      <td>-6709.525879</td>\n",
       "      <td>10366.320068</td>\n",
       "    </tr>\n",
       "    <tr>\n",
       "      <th>0</th>\n",
       "      <td>2022-11-23</td>\n",
       "      <td>10245.507568</td>\n",
       "      <td>-16773.814697</td>\n",
       "      <td>-6528.307129</td>\n",
       "    </tr>\n",
       "    <tr>\n",
       "      <th>0</th>\n",
       "      <td>2022-11-22</td>\n",
       "      <td>1677.381470</td>\n",
       "      <td>-1677.381470</td>\n",
       "      <td>0.000000</td>\n",
       "    </tr>\n",
       "    <tr>\n",
       "      <th>0</th>\n",
       "      <td>2022-11-22</td>\n",
       "      <td>1677.381470</td>\n",
       "      <td>-1677.381470</td>\n",
       "      <td>0.000000</td>\n",
       "    </tr>\n",
       "    <tr>\n",
       "      <th>0</th>\n",
       "      <td>2022-11-22</td>\n",
       "      <td>1677.381470</td>\n",
       "      <td>-1677.381470</td>\n",
       "      <td>0.000000</td>\n",
       "    </tr>\n",
       "    <tr>\n",
       "      <th>0</th>\n",
       "      <td>2022-11-22</td>\n",
       "      <td>1677.381470</td>\n",
       "      <td>-1677.381470</td>\n",
       "      <td>0.000000</td>\n",
       "    </tr>\n",
       "  </tbody>\n",
       "</table>\n",
       "</div>"
      ],
      "text/plain": [
       "    sell date        return     cost base    net return\n",
       "0  2022-11-23   1707.584595  -1677.381470     30.203125\n",
       "0  2022-11-23   1707.584595  -1677.381470     30.203125\n",
       "0  2022-11-23   1707.584595  -1677.381470     30.203125\n",
       "0  2022-11-23   1707.584595  -1677.381470     30.203125\n",
       "0  2022-11-23   1707.584595  -1677.381470     30.203125\n",
       "0  2022-11-23  17075.845947  -6709.525879  10366.320068\n",
       "0  2022-11-23  10245.507568 -16773.814697  -6528.307129\n",
       "0  2022-11-22   1677.381470  -1677.381470      0.000000\n",
       "0  2022-11-22   1677.381470  -1677.381470      0.000000\n",
       "0  2022-11-22   1677.381470  -1677.381470      0.000000\n",
       "0  2022-11-22   1677.381470  -1677.381470      0.000000"
      ]
     },
     "execution_count": 334,
     "metadata": {},
     "output_type": "execute_result"
    }
   ],
   "source": [
    "for sell_index, sell_transaction in sell_df.iterrows():\n",
    "    for buy_index, buy_transaction in buy_df.iterrows():\n",
    "        if buy_transaction['currency'] == sell_transaction['currency']:\n",
    "            \n",
    "            # if buy transaction amount = sell transactions amount\n",
    "            if buy_transaction['amount'] == -sell_transaction['amount']:\n",
    "                new_row = pd.DataFrame({'sell date': [sell_transaction['date']], 'return': [-sell_transaction['transaction value']],'cost base': [-buy_transaction['transaction value']]})\n",
    "                buy_df = buy_df.drop(index=buy_index)\n",
    "                tax_events_df = pd.concat([new_row,tax_events_df])\n",
    "            \n",
    "            # if buy transaction amount > sell transactions amount\n",
    "            elif buy_transaction['amount'] > -sell_transaction['amount']:\n",
    "                cost_base = sell_transaction['amount']*buy_transaction['price']\n",
    "                new_row = pd.DataFrame({'sell date': [sell_transaction['date']], 'return': [-sell_transaction['transaction value']],'cost base': [cost_base]})\n",
    "                buy_df.at[buy_index,'amount'] = buy_transaction['amount'] + sell_transaction['amount']\n",
    "                tax_events_df = pd.concat([new_row,tax_events_df])\n",
    "            \n",
    "            # if buy transaction amount < sell transactions amount\n",
    "            \n",
    "            elif buy_transaction['amount'] < -sell_transaction['amount']:\n",
    "                sell_base = buy_transaction['amount']*sell_transaction['price']\n",
    "                new_row = pd.DataFrame({'sell date': [sell_transaction['date']], 'return': [sell_base],'cost base': [-buy_transaction['transaction value']]})\n",
    "                buy_df = buy_df.drop(index=buy_index)\n",
    "                sell_transaction['amount'] = sell_transaction['amount'] + buy_transaction['amount']\n",
    "                tax_events_df = pd.concat([new_row,tax_events_df])\n",
    "                continue\n",
    "            break \n",
    "\n",
    "tax_events_df['net return']=0\n",
    "\n",
    "tax_events_df['net return'] = tax_events_df['return']+tax_events_df['cost base']\n",
    "\n",
    "tax_events_df"
   ]
  },
  {
   "cell_type": "code",
   "execution_count": 321,
   "id": "797c78ce-533b-49ca-b69f-5eb0a90c424f",
   "metadata": {},
   "outputs": [
    {
     "data": {
      "text/html": [
       "<div>\n",
       "<style scoped>\n",
       "    .dataframe tbody tr th:only-of-type {\n",
       "        vertical-align: middle;\n",
       "    }\n",
       "\n",
       "    .dataframe tbody tr th {\n",
       "        vertical-align: top;\n",
       "    }\n",
       "\n",
       "    .dataframe thead th {\n",
       "        text-align: right;\n",
       "    }\n",
       "</style>\n",
       "<table border=\"1\" class=\"dataframe\">\n",
       "  <thead>\n",
       "    <tr style=\"text-align: right;\">\n",
       "      <th></th>\n",
       "      <th>Unnamed: 0</th>\n",
       "      <th>timestamp</th>\n",
       "      <th>currency</th>\n",
       "      <th>amount</th>\n",
       "      <th>price</th>\n",
       "      <th>transaction value</th>\n",
       "      <th>date</th>\n",
       "    </tr>\n",
       "  </thead>\n",
       "  <tbody>\n",
       "    <tr>\n",
       "      <th>3</th>\n",
       "      <td>0</td>\n",
       "      <td>2022-11-22 13:31:43</td>\n",
       "      <td>ETH</td>\n",
       "      <td>1</td>\n",
       "      <td>1677.38147</td>\n",
       "      <td>16773.814697</td>\n",
       "      <td>2022-11-22</td>\n",
       "    </tr>\n",
       "  </tbody>\n",
       "</table>\n",
       "</div>"
      ],
      "text/plain": [
       "   Unnamed: 0            timestamp currency  amount       price  \\\n",
       "3           0  2022-11-22 13:31:43      ETH       1  1677.38147   \n",
       "\n",
       "   transaction value        date  \n",
       "3       16773.814697  2022-11-22  "
      ]
     },
     "execution_count": 321,
     "metadata": {},
     "output_type": "execute_result"
    }
   ],
   "source": [
    "buy_df"
   ]
  },
  {
   "cell_type": "code",
   "execution_count": 322,
   "id": "13a2b9b4-8928-4339-9dd0-00c157571d3b",
   "metadata": {},
   "outputs": [
    {
     "data": {
      "text/html": [
       "<div>\n",
       "<style scoped>\n",
       "    .dataframe tbody tr th:only-of-type {\n",
       "        vertical-align: middle;\n",
       "    }\n",
       "\n",
       "    .dataframe tbody tr th {\n",
       "        vertical-align: top;\n",
       "    }\n",
       "\n",
       "    .dataframe thead th {\n",
       "        text-align: right;\n",
       "    }\n",
       "</style>\n",
       "<table border=\"1\" class=\"dataframe\">\n",
       "  <thead>\n",
       "    <tr style=\"text-align: right;\">\n",
       "      <th></th>\n",
       "      <th>Unnamed: 0</th>\n",
       "      <th>timestamp</th>\n",
       "      <th>currency</th>\n",
       "      <th>amount</th>\n",
       "      <th>price</th>\n",
       "      <th>transaction value</th>\n",
       "      <th>date</th>\n",
       "    </tr>\n",
       "  </thead>\n",
       "  <tbody>\n",
       "    <tr>\n",
       "      <th>6</th>\n",
       "      <td>0</td>\n",
       "      <td>2022-11-22 18:45:33</td>\n",
       "      <td>ETH</td>\n",
       "      <td>-1</td>\n",
       "      <td>1677.381470</td>\n",
       "      <td>-1677.381470</td>\n",
       "      <td>2022-11-22</td>\n",
       "    </tr>\n",
       "    <tr>\n",
       "      <th>7</th>\n",
       "      <td>0</td>\n",
       "      <td>2022-11-22 18:46:33</td>\n",
       "      <td>ETH</td>\n",
       "      <td>-1</td>\n",
       "      <td>1677.381470</td>\n",
       "      <td>-1677.381470</td>\n",
       "      <td>2022-11-22</td>\n",
       "    </tr>\n",
       "    <tr>\n",
       "      <th>8</th>\n",
       "      <td>0</td>\n",
       "      <td>2022-11-22 18:57:24</td>\n",
       "      <td>ETH</td>\n",
       "      <td>-1</td>\n",
       "      <td>1677.381470</td>\n",
       "      <td>-1677.381470</td>\n",
       "      <td>2022-11-22</td>\n",
       "    </tr>\n",
       "    <tr>\n",
       "      <th>9</th>\n",
       "      <td>0</td>\n",
       "      <td>2022-11-22 19:01:29</td>\n",
       "      <td>ETH</td>\n",
       "      <td>-1</td>\n",
       "      <td>1677.381470</td>\n",
       "      <td>-1677.381470</td>\n",
       "      <td>2022-11-22</td>\n",
       "    </tr>\n",
       "    <tr>\n",
       "      <th>10</th>\n",
       "      <td>0</td>\n",
       "      <td>2022-11-23 13:31:27</td>\n",
       "      <td>ETH</td>\n",
       "      <td>-10</td>\n",
       "      <td>1707.584595</td>\n",
       "      <td>-17075.845947</td>\n",
       "      <td>2022-11-23</td>\n",
       "    </tr>\n",
       "    <tr>\n",
       "      <th>13</th>\n",
       "      <td>0</td>\n",
       "      <td>2022-11-23 13:31:27</td>\n",
       "      <td>ETH</td>\n",
       "      <td>-1</td>\n",
       "      <td>1707.584595</td>\n",
       "      <td>-1707.584595</td>\n",
       "      <td>2022-11-23</td>\n",
       "    </tr>\n",
       "    <tr>\n",
       "      <th>16</th>\n",
       "      <td>0</td>\n",
       "      <td>2022-11-23 13:31:27</td>\n",
       "      <td>ETH</td>\n",
       "      <td>-1</td>\n",
       "      <td>1707.584595</td>\n",
       "      <td>-1707.584595</td>\n",
       "      <td>2022-11-23</td>\n",
       "    </tr>\n",
       "    <tr>\n",
       "      <th>17</th>\n",
       "      <td>0</td>\n",
       "      <td>2022-11-23 13:31:27</td>\n",
       "      <td>ETH</td>\n",
       "      <td>-1</td>\n",
       "      <td>1707.584595</td>\n",
       "      <td>-1707.584595</td>\n",
       "      <td>2022-11-23</td>\n",
       "    </tr>\n",
       "    <tr>\n",
       "      <th>18</th>\n",
       "      <td>0</td>\n",
       "      <td>2022-11-23 13:31:27</td>\n",
       "      <td>ETH</td>\n",
       "      <td>-1</td>\n",
       "      <td>1707.584595</td>\n",
       "      <td>-1707.584595</td>\n",
       "      <td>2022-11-23</td>\n",
       "    </tr>\n",
       "    <tr>\n",
       "      <th>19</th>\n",
       "      <td>0</td>\n",
       "      <td>2022-11-23 13:31:27</td>\n",
       "      <td>ETH</td>\n",
       "      <td>-1</td>\n",
       "      <td>1707.584595</td>\n",
       "      <td>-1707.584595</td>\n",
       "      <td>2022-11-23</td>\n",
       "    </tr>\n",
       "  </tbody>\n",
       "</table>\n",
       "</div>"
      ],
      "text/plain": [
       "    Unnamed: 0            timestamp currency  amount        price  \\\n",
       "6            0  2022-11-22 18:45:33      ETH      -1  1677.381470   \n",
       "7            0  2022-11-22 18:46:33      ETH      -1  1677.381470   \n",
       "8            0  2022-11-22 18:57:24      ETH      -1  1677.381470   \n",
       "9            0  2022-11-22 19:01:29      ETH      -1  1677.381470   \n",
       "10           0  2022-11-23 13:31:27      ETH     -10  1707.584595   \n",
       "13           0  2022-11-23 13:31:27      ETH      -1  1707.584595   \n",
       "16           0  2022-11-23 13:31:27      ETH      -1  1707.584595   \n",
       "17           0  2022-11-23 13:31:27      ETH      -1  1707.584595   \n",
       "18           0  2022-11-23 13:31:27      ETH      -1  1707.584595   \n",
       "19           0  2022-11-23 13:31:27      ETH      -1  1707.584595   \n",
       "\n",
       "    transaction value        date  \n",
       "6        -1677.381470  2022-11-22  \n",
       "7        -1677.381470  2022-11-22  \n",
       "8        -1677.381470  2022-11-22  \n",
       "9        -1677.381470  2022-11-22  \n",
       "10      -17075.845947  2022-11-23  \n",
       "13       -1707.584595  2022-11-23  \n",
       "16       -1707.584595  2022-11-23  \n",
       "17       -1707.584595  2022-11-23  \n",
       "18       -1707.584595  2022-11-23  \n",
       "19       -1707.584595  2022-11-23  "
      ]
     },
     "execution_count": 322,
     "metadata": {},
     "output_type": "execute_result"
    }
   ],
   "source": [
    "sell_df"
   ]
  },
  {
   "cell_type": "code",
   "execution_count": 341,
   "id": "33b009cf-6e11-46dd-a3cd-7453ea6da422",
   "metadata": {},
   "outputs": [
    {
     "data": {
      "text/plain": [
       "3989.028564453125"
      ]
     },
     "execution_count": 341,
     "metadata": {},
     "output_type": "execute_result"
    }
   ],
   "source": [
    "capital_gain = tax_events_df['net return'].sum()\n",
    "capital_gain"
   ]
  },
  {
   "cell_type": "code",
   "execution_count": 342,
   "id": "63b413d0-03ee-4a84-825e-29e851366ec4",
   "metadata": {},
   "outputs": [
    {
     "name": "stdin",
     "output_type": "stream",
     "text": [
      "Enter taxable income 150000\n"
     ]
    }
   ],
   "source": [
    "#E Input taxable income \n",
    "\n",
    "salary = int(input('Enter taxable income'))"
   ]
  },
  {
   "cell_type": "code",
   "execution_count": 344,
   "id": "87104573-1036-4d68-883f-1bd0568fe8c3",
   "metadata": {},
   "outputs": [
    {
     "data": {
      "text/plain": [
       "153989.02856445312"
      ]
     },
     "execution_count": 344,
     "metadata": {},
     "output_type": "execute_result"
    }
   ],
   "source": [
    "# F) Add remainder of gain to taxable income\n",
    "\n",
    "total_y = salary + capital_gain \n",
    "total_y"
   ]
  },
  {
   "cell_type": "code",
   "execution_count": 345,
   "id": "f41a7d30-5283-4cf9-9600-798dfc6a28e2",
   "metadata": {},
   "outputs": [],
   "source": [
    "## Create tax calculator for Australian Tax Brackets\n",
    "\n",
    "# 2022/23 Australian income tax brackets and tax rates\n",
    "\n",
    "bracket1=18200\n",
    "bracket2=45000\n",
    "bracket3=120000\n",
    "bracket4=180000\n",
    "rate1=0.19\n",
    "rate2=0.325\n",
    "rate3=0.37\n",
    "rate4=0.45\n"
   ]
  },
  {
   "cell_type": "code",
   "execution_count": 346,
   "id": "c9e605f2-a689-4ae0-961b-7e4ff007e4b1",
   "metadata": {},
   "outputs": [],
   "source": [
    "# User Input\n",
    "\n",
    "def inc_tax (total_y):\n",
    "    '''calculates tax based on income enterd'''\n",
    "    if total_y<=bracket1:\n",
    "        return 0\n",
    "    elif total_y<=bracket2:\n",
    "        return (total_y-bracket1)*rate1\n",
    "    elif total_y<=bracket3:\n",
    "        return (total_y-bracket2)*rate2+(bracket2-bracket1)*rate1\n",
    "    elif total_y<=bracket4:\n",
    "        return (total_y-bracket3)*rate3+(bracket3-bracket2)*rate2+(bracket2-bracket1)*rate1\n",
    "    elif total_y>bracket4:\n",
    "        return (total_y-bracket4)*rate4+(bracket4-bracket3)*rate3+(bracket3-bracket2)*rate2+(bracket2-bracket1)*rate1"
   ]
  },
  {
   "cell_type": "code",
   "execution_count": 347,
   "id": "e6880f40-6c08-4a29-87f8-0d9841b67f7c",
   "metadata": {},
   "outputs": [
    {
     "name": "stdout",
     "output_type": "stream",
     "text": [
      "Net Income: \n",
      "111946.08799560547\n",
      " \n",
      "Tax Paid: \n",
      "42042.940568847655\n",
      " \n",
      "Effective Tax Rate: \n",
      "0.27302555877382073\n"
     ]
    }
   ],
   "source": [
    "# Show results\n",
    "\n",
    "print('Net Income: ')\n",
    "print(total_y-inc_tax(total_y))\n",
    "print(' ')\n",
    "print('Tax Paid: ') \n",
    "print(inc_tax(total_y))\n",
    "print(' ')\n",
    "print('Effective Tax Rate: ')\n",
    "print(inc_tax(total_y)/total_y)"
   ]
  },
  {
   "cell_type": "code",
   "execution_count": null,
   "id": "594954d9-d94c-4c26-9415-f459f680ba6a",
   "metadata": {},
   "outputs": [],
   "source": []
  },
  {
   "cell_type": "code",
   "execution_count": null,
   "id": "bd78f22f-922c-4a1b-991d-74cc63b15202",
   "metadata": {},
   "outputs": [],
   "source": []
  }
 ],
 "metadata": {
  "kernelspec": {
   "display_name": "Python 3 (ipykernel)",
   "language": "python",
   "name": "python3"
  },
  "language_info": {
   "codemirror_mode": {
    "name": "ipython",
    "version": 3
   },
   "file_extension": ".py",
   "mimetype": "text/x-python",
   "name": "python",
   "nbconvert_exporter": "python",
   "pygments_lexer": "ipython3",
   "version": "3.7.13"
  }
 },
 "nbformat": 4,
 "nbformat_minor": 5
}
