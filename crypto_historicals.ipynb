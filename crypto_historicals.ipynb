{
 "cells": [
  {
   "cell_type": "code",
   "execution_count": 40,
   "id": "0ea7c6ef-f2cb-4681-9a76-ae77eb4b7034",
   "metadata": {},
   "outputs": [],
   "source": [
    "# Import relevant data libraries\n",
    "\n",
    "import pandas as pd\n",
    "from pathlib import Path\n",
    "import yfinance as yf\n",
    "from datetime import datetime,timedelta"
   ]
  },
  {
   "cell_type": "code",
   "execution_count": 41,
   "id": "ada022c8-9025-4afb-ad01-1f990d91d4a6",
   "metadata": {},
   "outputs": [],
   "source": [
    "# Read csv into DataFrame\n",
    "\n",
    "transactions_df = pd.read_csv(\"Resources/Transactions.csv\", parse_dates=True, infer_datetime_format=True)"
   ]
  },
  {
   "cell_type": "code",
   "execution_count": 42,
   "id": "1ed549d6-c790-4fa3-812a-51dae63d7d78",
   "metadata": {},
   "outputs": [
    {
     "data": {
      "text/html": [
       "<div>\n",
       "<style scoped>\n",
       "    .dataframe tbody tr th:only-of-type {\n",
       "        vertical-align: middle;\n",
       "    }\n",
       "\n",
       "    .dataframe tbody tr th {\n",
       "        vertical-align: top;\n",
       "    }\n",
       "\n",
       "    .dataframe thead th {\n",
       "        text-align: right;\n",
       "    }\n",
       "</style>\n",
       "<table border=\"1\" class=\"dataframe\">\n",
       "  <thead>\n",
       "    <tr style=\"text-align: right;\">\n",
       "      <th></th>\n",
       "      <th>Date</th>\n",
       "      <th>Amount</th>\n",
       "      <th>Currency</th>\n",
       "      <th>Transaction</th>\n",
       "    </tr>\n",
       "  </thead>\n",
       "  <tbody>\n",
       "    <tr>\n",
       "      <th>0</th>\n",
       "      <td>2021-08-07</td>\n",
       "      <td>1</td>\n",
       "      <td>BTC</td>\n",
       "      <td>BUY</td>\n",
       "    </tr>\n",
       "    <tr>\n",
       "      <th>1</th>\n",
       "      <td>2021-08-08</td>\n",
       "      <td>5</td>\n",
       "      <td>ETH</td>\n",
       "      <td>BUY</td>\n",
       "    </tr>\n",
       "    <tr>\n",
       "      <th>2</th>\n",
       "      <td>2021-08-08</td>\n",
       "      <td>20</td>\n",
       "      <td>SOL</td>\n",
       "      <td>BUY</td>\n",
       "    </tr>\n",
       "    <tr>\n",
       "      <th>3</th>\n",
       "      <td>2021-08-11</td>\n",
       "      <td>15</td>\n",
       "      <td>SOL</td>\n",
       "      <td>SELL</td>\n",
       "    </tr>\n",
       "  </tbody>\n",
       "</table>\n",
       "</div>"
      ],
      "text/plain": [
       "         Date  Amount Currency Transaction\n",
       "0  2021-08-07       1      BTC         BUY\n",
       "1  2021-08-08       5      ETH         BUY\n",
       "2  2021-08-08      20      SOL         BUY\n",
       "3  2021-08-11      15      SOL        SELL"
      ]
     },
     "execution_count": 42,
     "metadata": {},
     "output_type": "execute_result"
    }
   ],
   "source": [
    "#Review DataFrame\n",
    "\n",
    "transactions_df.head()"
   ]
  },
  {
   "cell_type": "code",
   "execution_count": 43,
   "id": "c8cbb8e7-8054-4607-93ec-384bee030ac2",
   "metadata": {},
   "outputs": [
    {
     "data": {
      "text/html": [
       "<div>\n",
       "<style scoped>\n",
       "    .dataframe tbody tr th:only-of-type {\n",
       "        vertical-align: middle;\n",
       "    }\n",
       "\n",
       "    .dataframe tbody tr th {\n",
       "        vertical-align: top;\n",
       "    }\n",
       "\n",
       "    .dataframe thead th {\n",
       "        text-align: right;\n",
       "    }\n",
       "</style>\n",
       "<table border=\"1\" class=\"dataframe\">\n",
       "  <thead>\n",
       "    <tr style=\"text-align: right;\">\n",
       "      <th></th>\n",
       "      <th>Date</th>\n",
       "      <th>Amount</th>\n",
       "      <th>Currency</th>\n",
       "      <th>Transaction</th>\n",
       "      <th>Price</th>\n",
       "      <th>Transaction Value (AUD)</th>\n",
       "    </tr>\n",
       "  </thead>\n",
       "  <tbody>\n",
       "    <tr>\n",
       "      <th>0</th>\n",
       "      <td>2021-08-07</td>\n",
       "      <td>1</td>\n",
       "      <td>BTC</td>\n",
       "      <td>BUY</td>\n",
       "      <td>0</td>\n",
       "      <td>0</td>\n",
       "    </tr>\n",
       "    <tr>\n",
       "      <th>1</th>\n",
       "      <td>2021-08-08</td>\n",
       "      <td>5</td>\n",
       "      <td>ETH</td>\n",
       "      <td>BUY</td>\n",
       "      <td>0</td>\n",
       "      <td>0</td>\n",
       "    </tr>\n",
       "    <tr>\n",
       "      <th>2</th>\n",
       "      <td>2021-08-08</td>\n",
       "      <td>20</td>\n",
       "      <td>SOL</td>\n",
       "      <td>BUY</td>\n",
       "      <td>0</td>\n",
       "      <td>0</td>\n",
       "    </tr>\n",
       "    <tr>\n",
       "      <th>3</th>\n",
       "      <td>2021-08-11</td>\n",
       "      <td>15</td>\n",
       "      <td>SOL</td>\n",
       "      <td>SELL</td>\n",
       "      <td>0</td>\n",
       "      <td>0</td>\n",
       "    </tr>\n",
       "  </tbody>\n",
       "</table>\n",
       "</div>"
      ],
      "text/plain": [
       "         Date  Amount Currency Transaction  Price  Transaction Value (AUD)\n",
       "0  2021-08-07       1      BTC         BUY      0                        0\n",
       "1  2021-08-08       5      ETH         BUY      0                        0\n",
       "2  2021-08-08      20      SOL         BUY      0                        0\n",
       "3  2021-08-11      15      SOL        SELL      0                        0"
      ]
     },
     "execution_count": 43,
     "metadata": {},
     "output_type": "execute_result"
    }
   ],
   "source": [
    "# Create column to fill in transactions values in AUD\n",
    "\n",
    "transactions_df['Price'] = 0\n",
    "transactions_df['Transaction Value (AUD)'] = 0\n",
    "transactions_df.head()"
   ]
  },
  {
   "cell_type": "code",
   "execution_count": 44,
   "id": "edbc5c61-ec53-4c02-a7f9-32dccc1c427b",
   "metadata": {},
   "outputs": [
    {
     "name": "stdout",
     "output_type": "stream",
     "text": [
      "[*********************100%***********************]  1 of 1 completed\n"
     ]
    },
    {
     "data": {
      "text/plain": [
       "58206.24609375"
      ]
     },
     "metadata": {},
     "output_type": "display_data"
    },
    {
     "name": "stdout",
     "output_type": "stream",
     "text": [
      "[*********************100%***********************]  1 of 1 completed\n"
     ]
    },
    {
     "data": {
      "text/plain": [
       "58206.24609375"
      ]
     },
     "metadata": {},
     "output_type": "display_data"
    },
    {
     "name": "stdout",
     "output_type": "stream",
     "text": [
      "[*********************100%***********************]  1 of 1 completed\n"
     ]
    },
    {
     "data": {
      "text/plain": [
       "4293.05224609375"
      ]
     },
     "metadata": {},
     "output_type": "display_data"
    },
    {
     "name": "stdout",
     "output_type": "stream",
     "text": [
      "[*********************100%***********************]  1 of 1 completed\n"
     ]
    },
    {
     "data": {
      "text/plain": [
       "4293.05224609375"
      ]
     },
     "metadata": {},
     "output_type": "display_data"
    },
    {
     "name": "stdout",
     "output_type": "stream",
     "text": [
      "[*********************100%***********************]  1 of 1 completed\n"
     ]
    },
    {
     "data": {
      "text/plain": [
       "53.57883071899414"
      ]
     },
     "metadata": {},
     "output_type": "display_data"
    },
    {
     "name": "stdout",
     "output_type": "stream",
     "text": [
      "[*********************100%***********************]  1 of 1 completed\n"
     ]
    },
    {
     "data": {
      "text/plain": [
       "53.57883071899414"
      ]
     },
     "metadata": {},
     "output_type": "display_data"
    },
    {
     "name": "stdout",
     "output_type": "stream",
     "text": [
      "[*********************100%***********************]  1 of 1 completed\n"
     ]
    },
    {
     "data": {
      "text/plain": [
       "55.339942932128906"
      ]
     },
     "metadata": {},
     "output_type": "display_data"
    },
    {
     "name": "stdout",
     "output_type": "stream",
     "text": [
      "[*********************100%***********************]  1 of 1 completed\n"
     ]
    },
    {
     "data": {
      "text/plain": [
       "55.339942932128906"
      ]
     },
     "metadata": {},
     "output_type": "display_data"
    }
   ],
   "source": [
    "# Get prices and multiply by amount transacted + fill into table\n",
    "\n",
    "def get_price(date,currency):\n",
    "    pair=currency+\"-AUD\"\n",
    "    data = yf.download(pair,date,date + timedelta(days=1))\n",
    "    display(data.iloc[0,4])\n",
    "    return data.iloc[0,4]\n",
    "\n",
    "for index, row in transactions_df.iterrows():\n",
    "    date = datetime.strptime(row[\"Date\"],'%Y-%m-%d')\n",
    "    currency=row[\"Currency\"]\n",
    "    amount=row[\"Amount\"]\n",
    "    price=row[\"Price\"]\n",
    "    transactions_df.loc[index,\"Price\"]=get_price(date,currency)\n",
    "    transactions_df.loc[index,\"Transaction Value (AUD)\"]=get_price(date,currency)*amount"
   ]
  },
  {
   "cell_type": "code",
   "execution_count": 45,
   "id": "80c93c1e-8b08-4fe2-9f9c-ffcbb831f706",
   "metadata": {},
   "outputs": [
    {
     "data": {
      "text/html": [
       "<div>\n",
       "<style scoped>\n",
       "    .dataframe tbody tr th:only-of-type {\n",
       "        vertical-align: middle;\n",
       "    }\n",
       "\n",
       "    .dataframe tbody tr th {\n",
       "        vertical-align: top;\n",
       "    }\n",
       "\n",
       "    .dataframe thead th {\n",
       "        text-align: right;\n",
       "    }\n",
       "</style>\n",
       "<table border=\"1\" class=\"dataframe\">\n",
       "  <thead>\n",
       "    <tr style=\"text-align: right;\">\n",
       "      <th></th>\n",
       "      <th>Date</th>\n",
       "      <th>Amount</th>\n",
       "      <th>Currency</th>\n",
       "      <th>Transaction</th>\n",
       "      <th>Price</th>\n",
       "      <th>Transaction Value (AUD)</th>\n",
       "    </tr>\n",
       "  </thead>\n",
       "  <tbody>\n",
       "    <tr>\n",
       "      <th>0</th>\n",
       "      <td>2021-08-07</td>\n",
       "      <td>1</td>\n",
       "      <td>BTC</td>\n",
       "      <td>BUY</td>\n",
       "      <td>58206.246094</td>\n",
       "      <td>58206.246094</td>\n",
       "    </tr>\n",
       "    <tr>\n",
       "      <th>1</th>\n",
       "      <td>2021-08-08</td>\n",
       "      <td>5</td>\n",
       "      <td>ETH</td>\n",
       "      <td>BUY</td>\n",
       "      <td>4293.052246</td>\n",
       "      <td>21465.261230</td>\n",
       "    </tr>\n",
       "    <tr>\n",
       "      <th>2</th>\n",
       "      <td>2021-08-08</td>\n",
       "      <td>20</td>\n",
       "      <td>SOL</td>\n",
       "      <td>BUY</td>\n",
       "      <td>53.578831</td>\n",
       "      <td>1071.576614</td>\n",
       "    </tr>\n",
       "    <tr>\n",
       "      <th>3</th>\n",
       "      <td>2021-08-11</td>\n",
       "      <td>15</td>\n",
       "      <td>SOL</td>\n",
       "      <td>SELL</td>\n",
       "      <td>55.339943</td>\n",
       "      <td>830.099144</td>\n",
       "    </tr>\n",
       "  </tbody>\n",
       "</table>\n",
       "</div>"
      ],
      "text/plain": [
       "         Date  Amount Currency Transaction         Price  \\\n",
       "0  2021-08-07       1      BTC         BUY  58206.246094   \n",
       "1  2021-08-08       5      ETH         BUY   4293.052246   \n",
       "2  2021-08-08      20      SOL         BUY     53.578831   \n",
       "3  2021-08-11      15      SOL        SELL     55.339943   \n",
       "\n",
       "   Transaction Value (AUD)  \n",
       "0             58206.246094  \n",
       "1             21465.261230  \n",
       "2              1071.576614  \n",
       "3               830.099144  "
      ]
     },
     "execution_count": 45,
     "metadata": {},
     "output_type": "execute_result"
    }
   ],
   "source": [
    "# Review DataFrame\n",
    "\n",
    "transactions_df.head()"
   ]
  },
  {
   "cell_type": "code",
   "execution_count": 46,
   "id": "fbf68311-61ca-49cf-94a4-e2cec94bd706",
   "metadata": {},
   "outputs": [],
   "source": [
    "# Need to change all trades to just ethereum"
   ]
  },
  {
   "cell_type": "code",
   "execution_count": 63,
   "id": "ca117ea9-195b-4b75-ad8b-8fa0b231a359",
   "metadata": {},
   "outputs": [
    {
     "data": {
      "text/plain": [
       "830.0991439819336"
      ]
     },
     "execution_count": 63,
     "metadata": {},
     "output_type": "execute_result"
    }
   ],
   "source": [
    " # A) When sell amount x - calculate sell transaction value \n",
    "    \n",
    "sale_value = 0\n",
    "\n",
    "for index, row in transactions_df.iterrows():\n",
    "    if row['Transaction'] == 'SELL':\n",
    "        sale_value = row['Transaction Value (AUD)']\n",
    "\n",
    "sale_value"
   ]
  },
  {
   "cell_type": "code",
   "execution_count": 64,
   "id": "568f7f33-d0f4-45d7-9a3d-0607be7c4ce5",
   "metadata": {},
   "outputs": [
    {
     "data": {
      "text/plain": [
       "1071.5766143798828"
      ]
     },
     "execution_count": 64,
     "metadata": {},
     "output_type": "execute_result"
    }
   ],
   "source": [
    "# B) When sell amount x - find purchase value of x from start\n",
    "        # If transaction is a sell - go through start calculating purchase value depending on amount - multiply sell amount by purchase price from buy (creates transaction value if not full amount)\n",
    "\n",
    "cost_base = 0 \n",
    "\n",
    "for index, row in transactions_df.iterrows():\n",
    "    if row['Transaction'] == 'BUY':\n",
    "        cost_base = row['Amount']*row['Price']\n",
    "    \n",
    "cost_base"
   ]
  },
  {
   "cell_type": "code",
   "execution_count": 65,
   "id": "33b009cf-6e11-46dd-a3cd-7453ea6da422",
   "metadata": {},
   "outputs": [
    {
     "data": {
      "text/plain": [
       "-241.47747039794922"
      ]
     },
     "execution_count": 65,
     "metadata": {},
     "output_type": "execute_result"
    }
   ],
   "source": [
    "# C) Calculate capital gain by step A - B\n",
    "        # If positive add to taxable gain\n",
    "        # If negative offset gain\n",
    "\n",
    "capital_return = sale_value - cost_base\n",
    "\n",
    "capital_return"
   ]
  },
  {
   "cell_type": "code",
   "execution_count": 66,
   "id": "5906515d-39f4-4048-9f7a-8811200e6e6b",
   "metadata": {},
   "outputs": [],
   "source": [
    "# OPTIONAL EXTRA\n",
    "\n",
    "# D) Is the gain liable for discount\n",
    "    # If sell date - buy date >365 : minus 50% from gain\n",
    "    # If sell date - buy date <365 : no action\n"
   ]
  },
  {
   "cell_type": "code",
   "execution_count": 67,
   "id": "63b413d0-03ee-4a84-825e-29e851366ec4",
   "metadata": {},
   "outputs": [
    {
     "name": "stdin",
     "output_type": "stream",
     "text": [
      "Enter taxable income 100000\n"
     ]
    }
   ],
   "source": [
    "#E Input taxable income\n",
    "\n",
    "salary = int(input('Enter taxable income'))"
   ]
  },
  {
   "cell_type": "code",
   "execution_count": 68,
   "id": "87104573-1036-4d68-883f-1bd0568fe8c3",
   "metadata": {},
   "outputs": [],
   "source": [
    "# F) Add remainder of gain to taxable income\n",
    "\n",
    "total_y = salary + capital_return \n"
   ]
  },
  {
   "cell_type": "code",
   "execution_count": 69,
   "id": "f41a7d30-5283-4cf9-9600-798dfc6a28e2",
   "metadata": {},
   "outputs": [],
   "source": [
    "## Create tax calculator for Australian Tax Brackets\n",
    "\n",
    "# 2022/23 Australian income tax brackets and tax rates\n",
    "\n",
    "bracket1=18200\n",
    "bracket2=45000\n",
    "bracket3=120000\n",
    "bracket4=180000\n",
    "rate1=0.19\n",
    "rate2=0.325\n",
    "rate3=0.37\n",
    "rate4=0.45\n"
   ]
  },
  {
   "cell_type": "code",
   "execution_count": 70,
   "id": "c9e605f2-a689-4ae0-961b-7e4ff007e4b1",
   "metadata": {},
   "outputs": [],
   "source": [
    "# User Input\n",
    "\n",
    "def inc_tax (total_y):\n",
    "    '''calculates tax based on income enterd'''\n",
    "    if total_y<=bracket1:\n",
    "        return 0\n",
    "    elif total_y<=bracket2:\n",
    "        return (total_y-bracket1)*rate1\n",
    "    elif total_y<=bracket3:\n",
    "        return (total_y-bracket2)*rate2+(bracket2-bracket1)*rate1\n",
    "    elif total_y<=bracket4:\n",
    "        return (total_y-bracket3)*rate3+(bracket3-bracket2)*rate2+(bracket2-bracket1)*rate1\n",
    "    elif total_y>bracket4:\n",
    "        return (total_y-bracket4)*rate4+(bracket4-bracket3)*rate3+(bracket3-bracket2)*rate2+(bracket2-bracket1)*rate1"
   ]
  },
  {
   "cell_type": "code",
   "execution_count": 71,
   "id": "e6880f40-6c08-4a29-87f8-0d9841b67f7c",
   "metadata": {},
   "outputs": [
    {
     "name": "stdout",
     "output_type": "stream",
     "text": [
      "Net Income: \n",
      "76870.00270748138\n",
      " \n",
      "Tax Paid: \n",
      "22888.519822120667\n",
      " \n",
      "Effective Tax Rate: \n",
      "0.229439242299612\n"
     ]
    }
   ],
   "source": [
    "# Show results\n",
    "\n",
    "print('Net Income: ')\n",
    "print(total_y-inc_tax(total_y))\n",
    "print(' ')\n",
    "print('Tax Paid: ') \n",
    "print(inc_tax(total_y))\n",
    "print(' ')\n",
    "print('Effective Tax Rate: ')\n",
    "print(inc_tax(total_y)/total_y)"
   ]
  },
  {
   "cell_type": "code",
   "execution_count": null,
   "id": "594954d9-d94c-4c26-9415-f459f680ba6a",
   "metadata": {},
   "outputs": [],
   "source": []
  },
  {
   "cell_type": "code",
   "execution_count": null,
   "id": "bd78f22f-922c-4a1b-991d-74cc63b15202",
   "metadata": {},
   "outputs": [],
   "source": []
  }
 ],
 "metadata": {
  "kernelspec": {
   "display_name": "Python 3 (ipykernel)",
   "language": "python",
   "name": "python3"
  },
  "language_info": {
   "codemirror_mode": {
    "name": "ipython",
    "version": 3
   },
   "file_extension": ".py",
   "mimetype": "text/x-python",
   "name": "python",
   "nbconvert_exporter": "python",
   "pygments_lexer": "ipython3",
   "version": "3.7.13"
  }
 },
 "nbformat": 4,
 "nbformat_minor": 5
}
