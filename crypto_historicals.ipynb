{
 "cells": [
  {
   "cell_type": "code",
   "execution_count": 92,
   "id": "0ea7c6ef-f2cb-4681-9a76-ae77eb4b7034",
   "metadata": {},
   "outputs": [],
   "source": [
    "# Import relevant data libraries\n",
    "\n",
    "import pandas as pd\n",
    "from pathlib import Path\n",
    "import yfinance as yf\n",
    "from datetime import datetime,timedelta"
   ]
  },
  {
   "cell_type": "code",
   "execution_count": 93,
   "id": "ada022c8-9025-4afb-ad01-1f990d91d4a6",
   "metadata": {},
   "outputs": [],
   "source": [
    "# Read csv into DataFrame\n",
    "\n",
    "transactions_df = pd.read_csv(\"Resources/Transactions.csv\", parse_dates=True, infer_datetime_format=True)"
   ]
  },
  {
   "cell_type": "code",
   "execution_count": 94,
   "id": "1ed549d6-c790-4fa3-812a-51dae63d7d78",
   "metadata": {},
   "outputs": [
    {
     "data": {
      "text/html": [
       "<div>\n",
       "<style scoped>\n",
       "    .dataframe tbody tr th:only-of-type {\n",
       "        vertical-align: middle;\n",
       "    }\n",
       "\n",
       "    .dataframe tbody tr th {\n",
       "        vertical-align: top;\n",
       "    }\n",
       "\n",
       "    .dataframe thead th {\n",
       "        text-align: right;\n",
       "    }\n",
       "</style>\n",
       "<table border=\"1\" class=\"dataframe\">\n",
       "  <thead>\n",
       "    <tr style=\"text-align: right;\">\n",
       "      <th></th>\n",
       "      <th>Date</th>\n",
       "      <th>Amount</th>\n",
       "      <th>Currency</th>\n",
       "      <th>Transaction</th>\n",
       "    </tr>\n",
       "  </thead>\n",
       "  <tbody>\n",
       "    <tr>\n",
       "      <th>0</th>\n",
       "      <td>2021-08-07</td>\n",
       "      <td>1</td>\n",
       "      <td>BTC</td>\n",
       "      <td>BUY</td>\n",
       "    </tr>\n",
       "    <tr>\n",
       "      <th>1</th>\n",
       "      <td>2021-08-08</td>\n",
       "      <td>5</td>\n",
       "      <td>ETH</td>\n",
       "      <td>BUY</td>\n",
       "    </tr>\n",
       "    <tr>\n",
       "      <th>2</th>\n",
       "      <td>2021-08-08</td>\n",
       "      <td>20</td>\n",
       "      <td>SOL</td>\n",
       "      <td>BUY</td>\n",
       "    </tr>\n",
       "    <tr>\n",
       "      <th>3</th>\n",
       "      <td>2021-08-11</td>\n",
       "      <td>15</td>\n",
       "      <td>SOL</td>\n",
       "      <td>SELL</td>\n",
       "    </tr>\n",
       "  </tbody>\n",
       "</table>\n",
       "</div>"
      ],
      "text/plain": [
       "         Date  Amount Currency Transaction\n",
       "0  2021-08-07       1      BTC         BUY\n",
       "1  2021-08-08       5      ETH         BUY\n",
       "2  2021-08-08      20      SOL         BUY\n",
       "3  2021-08-11      15      SOL        SELL"
      ]
     },
     "execution_count": 94,
     "metadata": {},
     "output_type": "execute_result"
    }
   ],
   "source": [
    "#Review DataFrame\n",
    "\n",
    "transactions_df.head()"
   ]
  },
  {
   "cell_type": "code",
   "execution_count": 95,
   "id": "c8cbb8e7-8054-4607-93ec-384bee030ac2",
   "metadata": {},
   "outputs": [
    {
     "data": {
      "text/html": [
       "<div>\n",
       "<style scoped>\n",
       "    .dataframe tbody tr th:only-of-type {\n",
       "        vertical-align: middle;\n",
       "    }\n",
       "\n",
       "    .dataframe tbody tr th {\n",
       "        vertical-align: top;\n",
       "    }\n",
       "\n",
       "    .dataframe thead th {\n",
       "        text-align: right;\n",
       "    }\n",
       "</style>\n",
       "<table border=\"1\" class=\"dataframe\">\n",
       "  <thead>\n",
       "    <tr style=\"text-align: right;\">\n",
       "      <th></th>\n",
       "      <th>Date</th>\n",
       "      <th>Amount</th>\n",
       "      <th>Currency</th>\n",
       "      <th>Transaction</th>\n",
       "      <th>Price</th>\n",
       "      <th>Transaction Value (AUD)</th>\n",
       "    </tr>\n",
       "  </thead>\n",
       "  <tbody>\n",
       "    <tr>\n",
       "      <th>0</th>\n",
       "      <td>2021-08-07</td>\n",
       "      <td>1</td>\n",
       "      <td>BTC</td>\n",
       "      <td>BUY</td>\n",
       "      <td>0</td>\n",
       "      <td>0</td>\n",
       "    </tr>\n",
       "    <tr>\n",
       "      <th>1</th>\n",
       "      <td>2021-08-08</td>\n",
       "      <td>5</td>\n",
       "      <td>ETH</td>\n",
       "      <td>BUY</td>\n",
       "      <td>0</td>\n",
       "      <td>0</td>\n",
       "    </tr>\n",
       "    <tr>\n",
       "      <th>2</th>\n",
       "      <td>2021-08-08</td>\n",
       "      <td>20</td>\n",
       "      <td>SOL</td>\n",
       "      <td>BUY</td>\n",
       "      <td>0</td>\n",
       "      <td>0</td>\n",
       "    </tr>\n",
       "    <tr>\n",
       "      <th>3</th>\n",
       "      <td>2021-08-11</td>\n",
       "      <td>15</td>\n",
       "      <td>SOL</td>\n",
       "      <td>SELL</td>\n",
       "      <td>0</td>\n",
       "      <td>0</td>\n",
       "    </tr>\n",
       "  </tbody>\n",
       "</table>\n",
       "</div>"
      ],
      "text/plain": [
       "         Date  Amount Currency Transaction  Price  Transaction Value (AUD)\n",
       "0  2021-08-07       1      BTC         BUY      0                        0\n",
       "1  2021-08-08       5      ETH         BUY      0                        0\n",
       "2  2021-08-08      20      SOL         BUY      0                        0\n",
       "3  2021-08-11      15      SOL        SELL      0                        0"
      ]
     },
     "execution_count": 95,
     "metadata": {},
     "output_type": "execute_result"
    }
   ],
   "source": [
    "# Create column to fill in transactions values in AUD\n",
    "\n",
    "transactions_df['Price'] = 0\n",
    "transactions_df['Transaction Value (AUD)'] = 0\n",
    "transactions_df.head()"
   ]
  },
  {
   "cell_type": "code",
   "execution_count": 100,
   "id": "edbc5c61-ec53-4c02-a7f9-32dccc1c427b",
   "metadata": {},
   "outputs": [
    {
     "name": "stdout",
     "output_type": "stream",
     "text": [
      "[*********************100%***********************]  1 of 1 completed\n"
     ]
    },
    {
     "data": {
      "text/plain": [
       "58206.24609375"
      ]
     },
     "metadata": {},
     "output_type": "display_data"
    },
    {
     "name": "stdout",
     "output_type": "stream",
     "text": [
      "[*********************100%***********************]  1 of 1 completed\n"
     ]
    },
    {
     "data": {
      "text/plain": [
       "58206.24609375"
      ]
     },
     "metadata": {},
     "output_type": "display_data"
    },
    {
     "name": "stdout",
     "output_type": "stream",
     "text": [
      "[*********************100%***********************]  1 of 1 completed\n"
     ]
    },
    {
     "data": {
      "text/plain": [
       "4293.05224609375"
      ]
     },
     "metadata": {},
     "output_type": "display_data"
    },
    {
     "name": "stdout",
     "output_type": "stream",
     "text": [
      "[*********************100%***********************]  1 of 1 completed\n"
     ]
    },
    {
     "data": {
      "text/plain": [
       "4293.05224609375"
      ]
     },
     "metadata": {},
     "output_type": "display_data"
    },
    {
     "name": "stdout",
     "output_type": "stream",
     "text": [
      "[*********************100%***********************]  1 of 1 completed\n"
     ]
    },
    {
     "data": {
      "text/plain": [
       "53.57883071899414"
      ]
     },
     "metadata": {},
     "output_type": "display_data"
    },
    {
     "name": "stdout",
     "output_type": "stream",
     "text": [
      "[*********************100%***********************]  1 of 1 completed\n"
     ]
    },
    {
     "data": {
      "text/plain": [
       "53.57883071899414"
      ]
     },
     "metadata": {},
     "output_type": "display_data"
    },
    {
     "name": "stdout",
     "output_type": "stream",
     "text": [
      "[*********************100%***********************]  1 of 1 completed\n"
     ]
    },
    {
     "data": {
      "text/plain": [
       "55.339942932128906"
      ]
     },
     "metadata": {},
     "output_type": "display_data"
    },
    {
     "name": "stdout",
     "output_type": "stream",
     "text": [
      "[*********************100%***********************]  1 of 1 completed\n"
     ]
    },
    {
     "data": {
      "text/plain": [
       "55.339942932128906"
      ]
     },
     "metadata": {},
     "output_type": "display_data"
    }
   ],
   "source": [
    "# Get prices and multiply by amount transacted + fill into table\n",
    "\n",
    "def get_price(date,currency):\n",
    "    pair=currency+\"-AUD\"\n",
    "    data = yf.download(pair,date,date + timedelta(days=1))\n",
    "    display(data.iloc[0,4])\n",
    "    return data.iloc[0,4]\n",
    "\n",
    "for index, row in transactions_df.iterrows():\n",
    "    date = datetime.strptime(row[\"Date\"],'%Y-%m-%d')\n",
    "    currency=row[\"Currency\"]\n",
    "    amount=row[\"Amount\"]\n",
    "    price=row[\"Price\"]\n",
    "    transactions_df.loc[index,\"Price\"]=get_price(date,currency)\n",
    "    transactions_df.loc[index,\"Transaction Value (AUD)\"]=get_price(date,currency)*amount"
   ]
  },
  {
   "cell_type": "code",
   "execution_count": 101,
   "id": "80c93c1e-8b08-4fe2-9f9c-ffcbb831f706",
   "metadata": {},
   "outputs": [
    {
     "data": {
      "text/html": [
       "<div>\n",
       "<style scoped>\n",
       "    .dataframe tbody tr th:only-of-type {\n",
       "        vertical-align: middle;\n",
       "    }\n",
       "\n",
       "    .dataframe tbody tr th {\n",
       "        vertical-align: top;\n",
       "    }\n",
       "\n",
       "    .dataframe thead th {\n",
       "        text-align: right;\n",
       "    }\n",
       "</style>\n",
       "<table border=\"1\" class=\"dataframe\">\n",
       "  <thead>\n",
       "    <tr style=\"text-align: right;\">\n",
       "      <th></th>\n",
       "      <th>Date</th>\n",
       "      <th>Amount</th>\n",
       "      <th>Currency</th>\n",
       "      <th>Transaction</th>\n",
       "      <th>Price</th>\n",
       "      <th>Transaction Value (AUD)</th>\n",
       "    </tr>\n",
       "  </thead>\n",
       "  <tbody>\n",
       "    <tr>\n",
       "      <th>0</th>\n",
       "      <td>2021-08-07</td>\n",
       "      <td>1</td>\n",
       "      <td>BTC</td>\n",
       "      <td>BUY</td>\n",
       "      <td>58206.246094</td>\n",
       "      <td>58206.246094</td>\n",
       "    </tr>\n",
       "    <tr>\n",
       "      <th>1</th>\n",
       "      <td>2021-08-08</td>\n",
       "      <td>5</td>\n",
       "      <td>ETH</td>\n",
       "      <td>BUY</td>\n",
       "      <td>4293.052246</td>\n",
       "      <td>21465.261230</td>\n",
       "    </tr>\n",
       "    <tr>\n",
       "      <th>2</th>\n",
       "      <td>2021-08-08</td>\n",
       "      <td>20</td>\n",
       "      <td>SOL</td>\n",
       "      <td>BUY</td>\n",
       "      <td>53.578831</td>\n",
       "      <td>1071.576614</td>\n",
       "    </tr>\n",
       "    <tr>\n",
       "      <th>3</th>\n",
       "      <td>2021-08-11</td>\n",
       "      <td>15</td>\n",
       "      <td>SOL</td>\n",
       "      <td>SELL</td>\n",
       "      <td>55.339943</td>\n",
       "      <td>830.099144</td>\n",
       "    </tr>\n",
       "  </tbody>\n",
       "</table>\n",
       "</div>"
      ],
      "text/plain": [
       "         Date  Amount Currency Transaction         Price  \\\n",
       "0  2021-08-07       1      BTC         BUY  58206.246094   \n",
       "1  2021-08-08       5      ETH         BUY   4293.052246   \n",
       "2  2021-08-08      20      SOL         BUY     53.578831   \n",
       "3  2021-08-11      15      SOL        SELL     55.339943   \n",
       "\n",
       "   Transaction Value (AUD)  \n",
       "0             58206.246094  \n",
       "1             21465.261230  \n",
       "2              1071.576614  \n",
       "3               830.099144  "
      ]
     },
     "execution_count": 101,
     "metadata": {},
     "output_type": "execute_result"
    }
   ],
   "source": [
    "# Review DataFrame\n",
    "\n",
    "transactions_df.head()"
   ]
  },
  {
   "cell_type": "code",
   "execution_count": 102,
   "id": "bba7b982-cdc6-4aac-b750-828f888d8d52",
   "metadata": {},
   "outputs": [
    {
     "ename": "SyntaxError",
     "evalue": "invalid syntax (756554881.py, line 4)",
     "output_type": "error",
     "traceback": [
      "\u001b[1;36m  File \u001b[1;32m\"C:\\Users\\61403\\AppData\\Local\\Temp\\ipykernel_17236\\756554881.py\"\u001b[1;36m, line \u001b[1;32m4\u001b[0m\n\u001b[1;33m    if currency in sell == currency in buy\u001b[0m\n\u001b[1;37m                                          ^\u001b[0m\n\u001b[1;31mSyntaxError\u001b[0m\u001b[1;31m:\u001b[0m invalid syntax\n"
     ]
    }
   ],
   "source": [
    "# Calculate capital gains\n",
    "\n",
    "for currency in transactions_df:\n",
    "    if currency in sell == currency in buy\n",
    "\n",
    "\n",
    "\n",
    "    \n",
    "# Copied from portfolio view.ipynb\n",
    "last_date=0\n",
    "summary_portfolio_df = pd.DataFrame(columns=['Currency','Amount'])\n",
    "summary_portfolio_df.set_index('Currency',inplace=True)\n",
    "daily_portfolio = pd.DataFrame(columns=['Date','AUD'])\n",
    "\n",
    "for index, row in transactions_df.iterrows():\n",
    "    #parse the row\n",
    "    date = datetime.strptime(row['Date'], '%Y-%m-%d')\n",
    "\n",
    "    if row['Transaction'] == 'SELL':\n",
    "        amount = -row['Amount']\n",
    "    else:\n",
    "        amount = row['Amount']\n",
    "        \n",
    "    if not currency in summary_portfolio_df.index:\n",
    "        new_row = pd.DataFrame({'Currency':[currency], 'Amount':[amount]})\n",
    "        new_row.set_index('Currency',inplace=True)\n",
    "        summary_portfolio_df = pd.concat([summary_portfolio_df,new_row])\n",
    "    else:\n",
    "        summary_portfolio_df.loc[currency, 'Amount'] += amount   "
   ]
  },
  {
   "cell_type": "code",
   "execution_count": 76,
   "id": "f41a7d30-5283-4cf9-9600-798dfc6a28e2",
   "metadata": {},
   "outputs": [],
   "source": [
    "## Create tax calculator for Australian Tax Brackets\n",
    "\n",
    "# 2022/23 Australian income tax brackets and tax rates\n",
    "\n",
    "bracket1=18200\n",
    "bracket2=45000\n",
    "bracket3=120000\n",
    "bracket4=180000\n",
    "rate1=0.19\n",
    "rate2=0.325\n",
    "rate3=0.37\n",
    "rate4=0.45\n"
   ]
  },
  {
   "cell_type": "code",
   "execution_count": 77,
   "id": "c9e605f2-a689-4ae0-961b-7e4ff007e4b1",
   "metadata": {},
   "outputs": [
    {
     "name": "stdin",
     "output_type": "stream",
     "text": [
      "Enter taxable income + capital gains:  105000\n"
     ]
    }
   ],
   "source": [
    "# User Input\n",
    "x = int(input('Enter taxable income + capital gains: '))\n",
    "\n",
    "def inc_tax (x):\n",
    "    '''calculates tax based on income enterd'''\n",
    "    if x<=bracket1:\n",
    "        return 0\n",
    "    elif x<=bracket2:\n",
    "        return (x-bracket1)*rate1\n",
    "    elif x<=bracket3:\n",
    "        return (x-bracket2)*rate2+(bracket2-bracket1)*rate1\n",
    "    elif x<=bracket4:\n",
    "        return (x-bracket3)*rate3+(bracket3-bracket2)*rate2+(bracket2-bracket1)*rate1\n",
    "    elif x>bracket4:\n",
    "        return (x-bracket4)*rate4+(bracket4-bracket3)*rate3+(bracket3-bracket2)*rate2+(bracket2-bracket1)*rate1"
   ]
  },
  {
   "cell_type": "code",
   "execution_count": 79,
   "id": "e6880f40-6c08-4a29-87f8-0d9841b67f7c",
   "metadata": {},
   "outputs": [
    {
     "name": "stdout",
     "output_type": "stream",
     "text": [
      "Net Income: \n",
      "80408.0\n",
      " \n",
      "Tax Paid: \n",
      "24592.0\n",
      " \n",
      "Effective Tax Rate: \n",
      "0.2342095238095238\n"
     ]
    }
   ],
   "source": [
    "# Show results\n",
    "\n",
    "print('Net Income: ')\n",
    "print(x-inc_tax(x))\n",
    "print(' ')\n",
    "print('Tax Paid: ') \n",
    "print(inc_tax(x))\n",
    "print(' ')\n",
    "print('Effective Tax Rate: ')\n",
    "print(inc_tax(x)/x)"
   ]
  },
  {
   "cell_type": "code",
   "execution_count": null,
   "id": "594954d9-d94c-4c26-9415-f459f680ba6a",
   "metadata": {},
   "outputs": [],
   "source": []
  },
  {
   "cell_type": "code",
   "execution_count": null,
   "id": "bd78f22f-922c-4a1b-991d-74cc63b15202",
   "metadata": {},
   "outputs": [],
   "source": []
  }
 ],
 "metadata": {
  "kernelspec": {
   "display_name": "Python 3 (ipykernel)",
   "language": "python",
   "name": "python3"
  },
  "language_info": {
   "codemirror_mode": {
    "name": "ipython",
    "version": 3
   },
   "file_extension": ".py",
   "mimetype": "text/x-python",
   "name": "python",
   "nbconvert_exporter": "python",
   "pygments_lexer": "ipython3",
   "version": "3.7.13"
  }
 },
 "nbformat": 4,
 "nbformat_minor": 5
}
